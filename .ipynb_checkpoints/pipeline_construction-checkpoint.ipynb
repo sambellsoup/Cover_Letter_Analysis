{
 "cells": [
  {
   "cell_type": "markdown",
   "metadata": {},
   "source": [
    "## Job recommendation pipeline will consist of the following steps:\n",
    "    * Document is uploaded\n",
    "    * Extract text data from document\n",
    "    * Clean data with preprocessing\n",
    "    * Vectorize text data\n",
    "    * PCA to plot vectorized data\n",
    "    * Calculate cosine similarities of document with job description database\n",
    "    * Return list of job description matches with job titles and job categories\n",
    "    \n",
    "To Do:\n",
    "    * Look into Deep Learning option\n",
    "        https://slacker.ro/2019/04/29/deep-learning-with-keras-recommender-systems/"
   ]
  },
  {
   "cell_type": "code",
   "execution_count": 4,
   "metadata": {},
   "outputs": [],
   "source": [
    "import networkx as nx\n",
    "\n",
    "import numpy as np\n",
    "\n",
    "# For reading files\n",
    "import os\n",
    "\n",
    "# Data manipulation\n",
    "import pandas as pd\n",
    "\n",
    "# Text cleaning\n",
    "import re\n",
    "\n",
    "import requests\n",
    "\n",
    "## Text processing\n",
    "# NLP\n",
    "import spacy\n",
    "from spacy.lang.en import English\n",
    "from spacy.matcher import Matcher\n",
    "from spacy.tokens import Span\n",
    "nlp = spacy.load(\"en_core_web_sm\")\n",
    "\n",
    "# Sentence boundary detection\n",
    "import pysbd\n",
    "\n",
    "# More NLP for fun\n",
    "from textblob import TextBlob\n",
    "\n",
    "from tqdm import tqdm\n",
    "\n",
    "# Pipeline creation\n",
    "from sklearn.pipeline import Pipeline\n",
    "\n",
    "# Text extraction - needed\n",
    "from tika import parser\n",
    "\n",
    "# Pull the data from the numberous cover letter files. \n",
    "\n",
    "import pandas as pd\n",
    "\n",
    "import bs4\n",
    "\n",
    "from collections import Counter\n",
    "\n",
    "import matplotlib.pyplot as plt\n",
    "\n",
    "import networkx as nx\n",
    "\n",
    "import nltk\n",
    "nltk.download('stopwords')\n",
    "from nltk.corpus import stopwords\n",
    "\n",
    "import numpy as np\n",
    "\n",
    "# For reading files\n",
    "import os\n",
    "\n",
    "# Data manipulation\n",
    "import pandas as pd\n",
    "\n",
    "# Sentence boundary detection\n",
    "import pysbd\n",
    "\n",
    "from rake_nltk import Rake\n",
    "\n",
    "import random\n",
    "\n",
    "# Text cleaning\n",
    "import re\n",
    "\n",
    "import requests\n",
    "\n",
    "from sklearn.metrics.pairwise import cosine_similarity\n",
    "from sklearn.feature_extraction.text import CountVectorizer\n",
    "\n",
    "## Text processing\n",
    "# NLP\n",
    "import spacy\n",
    "from spacy.lang.en import English\n",
    "from spacy.matcher import Matcher\n",
    "from spacy.tokens import Span\n",
    "nlp = spacy.load(\"en_core_web_sm\")\n",
    "from pysbd.utils import PySBDFactory\n",
    "\n",
    "\n",
    "# More NLP for fun\n",
    "from textblob import TextBlob\n",
    "\n",
    "import texthero as hero\n",
    "\n",
    "from tqdm import tqdm\n",
    "\n",
    "# Pipeline creation\n",
    "from sklearn.pipeline import Pipeline\n",
    "\n"
   ]
  },
  {
   "cell_type": "code",
   "execution_count": 65,
   "metadata": {},
   "outputs": [],
   "source": [
    "import os\n",
    "\n",
    "import pandas as pd\n",
    "\n",
    "import re\n",
    "\n",
    "from rake_nltk import Rake\n",
    "\n",
    "from sklearn.metrics.pairwise import cosine_similarity\n",
    "from sklearn.feature_extraction.text import CountVectorizer\n",
    "\n",
    "# Text extraction\n",
    "from tika import parser"
   ]
  },
  {
   "cell_type": "code",
   "execution_count": 2,
   "metadata": {},
   "outputs": [
    {
     "ename": "SyntaxError",
     "evalue": "(unicode error) 'unicodeescape' codec can't decode bytes in position 2-3: truncated \\UXXXXXXXX escape (<ipython-input-2-5da82c0ad8b0>, line 42)",
     "output_type": "error",
     "traceback": [
      "\u001b[1;36m  File \u001b[1;32m\"<ipython-input-2-5da82c0ad8b0>\"\u001b[1;36m, line \u001b[1;32m42\u001b[0m\n\u001b[1;33m    \"C:\\Users\\sambe\\Projects\\Cover_Letter_Analysis\\data\\documents\\ResumeBrittanyMouzoon.pdf\"\u001b[0m\n\u001b[1;37m                                                                                            ^\u001b[0m\n\u001b[1;31mSyntaxError\u001b[0m\u001b[1;31m:\u001b[0m (unicode error) 'unicodeescape' codec can't decode bytes in position 2-3: truncated \\UXXXXXXXX escape\n"
     ]
    }
   ],
   "source": [
    "document_data = pd.DataFrame(columns=['username', 'raw_cover_letters'])\n",
    "\n",
    "all_text = []\n",
    "filenames = []\n",
    "\n",
    "\n",
    "\n",
    "\n",
    "def extract_data():\n",
    "#     uploaded_file = request.FILES['document']\n",
    "    uploaded_file  = (r\"C:\\Users\\sambe\\Projects\\Cover_Letter_Analysis\\data\\documents\\ResumeBrittanyMouzoon.pdf\")\n",
    "    for filename in os.listdir(r\"C:\\Users\\sambe\\Projects\\Cover_Letter_Analysis\\data\\Data_tobecompiled\\Administrative_Assistant_New_York_NY_2020-06-23\\CoverLetter\"):\n",
    "        parsed = parser.from_file(r'C:\\Users\\sambe\\Projects\\Cover_Letter_Analysis\\data\\Data_tobecompiled\\Administrative_Assistant_New_York_NY_2020-06-23\\CoverLetter\\\\' + filename)\n",
    "        text = parsed['content']\n",
    "        if parsed['content'] == None:\n",
    "            print(filename + \" is bad.\")\n",
    "        filenames.append(filename)\n",
    "#         resumes_df.username = filenames\n",
    "        try:\n",
    "            text = text.replace('\\n', '')          \n",
    "        except:\n",
    "            pass\n",
    "        all_text.append(text)\n",
    "#         print(\"extracting data from \" + filename)\n",
    "    more_cover_letter.raw_cover_letters = all_text\n",
    "    more_cover_letter.username = filenames\n",
    "#     resumes_df.dropna(axis=0, how='any', thresh=None, subset=None, inplace=False)\n",
    "    \n",
    "extract_data()"
   ]
  },
  {
   "cell_type": "code",
   "execution_count": 53,
   "metadata": {},
   "outputs": [],
   "source": [
    "document_data = pd.DataFrame(columns=['username', 'raw_text'])\n",
    "all_text = []\n",
    "filenames = []\n",
    "\n",
    "\n",
    "\n",
    "uploaded_file  = (r\"C:\\Users\\sambe\\Projects\\Cover_Letter_Analysis\\data\\documents\\ResumeBrittanyMouzoon.pdf\")\n",
    "parsed = parser.from_file(uploaded_file)\n",
    "text = parsed['content']\n",
    "if parsed['content'] == None:\n",
    "    print(\"Unable to read \" + uploaded_file)\n",
    "try:\n",
    "    text = text.replace('\\n', '')\n",
    "except:\n",
    "    pass\n",
    "all_text.append(text)\n",
    "document_data.raw_text = all_text\n",
    "document_data.username = 'Brittany Mouzoon'\n",
    "# document_data.username = users.username\n",
    "\n",
    "key_phrases = []\n",
    "r = Rake(min_length=1, max_length=3)\n",
    "r.extract_keywords_from_text(text)\n",
    "phrases = r.get_word_degrees()\n",
    "key_phrases.append(list(phrases.keys()))\n",
    "\n",
    "document_data['key_phrases'] = key_phrases\n",
    "document_data['bag_of_words'] = ''\n",
    "for index, row in document_data.iterrows():\n",
    "    words = ''\n",
    "    words += ' '.join(row['key_phrases']) + ' '\n",
    "    row['bag_of_words'] = words\n"
   ]
  },
  {
   "cell_type": "code",
   "execution_count": 55,
   "metadata": {},
   "outputs": [
    {
     "data": {
      "text/html": [
       "<div>\n",
       "<style scoped>\n",
       "    .dataframe tbody tr th:only-of-type {\n",
       "        vertical-align: middle;\n",
       "    }\n",
       "\n",
       "    .dataframe tbody tr th {\n",
       "        vertical-align: top;\n",
       "    }\n",
       "\n",
       "    .dataframe thead th {\n",
       "        text-align: right;\n",
       "    }\n",
       "</style>\n",
       "<table border=\"1\" class=\"dataframe\">\n",
       "  <thead>\n",
       "    <tr style=\"text-align: right;\">\n",
       "      <th></th>\n",
       "      <th>username</th>\n",
       "      <th>raw_text</th>\n",
       "      <th>key_phrases</th>\n",
       "      <th>bag_of_words</th>\n",
       "    </tr>\n",
       "  </thead>\n",
       "  <tbody>\n",
       "    <tr>\n",
       "      <th>0</th>\n",
       "      <td>Brittany Mouzoon</td>\n",
       "      <td>Indeed ResumeBrittany MouzoonLas Vegas, NV 891...</td>\n",
       "      <td>[326, employees, •, mydegree, kpis, merchandis...</td>\n",
       "      <td>326 employees • mydegree kpis merchandisingedu...</td>\n",
       "    </tr>\n",
       "  </tbody>\n",
       "</table>\n",
       "</div>"
      ],
      "text/plain": [
       "           username                                           raw_text  \\\n",
       "0  Brittany Mouzoon  Indeed ResumeBrittany MouzoonLas Vegas, NV 891...   \n",
       "\n",
       "                                         key_phrases  \\\n",
       "0  [326, employees, •, mydegree, kpis, merchandis...   \n",
       "\n",
       "                                        bag_of_words  \n",
       "0  326 employees • mydegree kpis merchandisingedu...  "
      ]
     },
     "execution_count": 55,
     "metadata": {},
     "output_type": "execute_result"
    }
   ],
   "source": [
    "document_data"
   ]
  },
  {
   "cell_type": "code",
   "execution_count": 77,
   "metadata": {},
   "outputs": [],
   "source": [
    "document = document_data[['username', 'bag_of_words']]"
   ]
  },
  {
   "cell_type": "code",
   "execution_count": 62,
   "metadata": {},
   "outputs": [],
   "source": [
    "jobsdf = pd.read_csv('data/job_descriptions.csv')"
   ]
  },
  {
   "cell_type": "code",
   "execution_count": 63,
   "metadata": {},
   "outputs": [],
   "source": [
    "jobsdf = jobsdf.dropna()"
   ]
  },
  {
   "cell_type": "code",
   "execution_count": 68,
   "metadata": {},
   "outputs": [
    {
     "data": {
      "text/html": [
       "<div>\n",
       "<style scoped>\n",
       "    .dataframe tbody tr th:only-of-type {\n",
       "        vertical-align: middle;\n",
       "    }\n",
       "\n",
       "    .dataframe tbody tr th {\n",
       "        vertical-align: top;\n",
       "    }\n",
       "\n",
       "    .dataframe thead th {\n",
       "        text-align: right;\n",
       "    }\n",
       "</style>\n",
       "<table border=\"1\" class=\"dataframe\">\n",
       "  <thead>\n",
       "    <tr style=\"text-align: right;\">\n",
       "      <th></th>\n",
       "      <th>title</th>\n",
       "      <th>category</th>\n",
       "      <th>description</th>\n",
       "      <th>location</th>\n",
       "    </tr>\n",
       "  </thead>\n",
       "  <tbody>\n",
       "    <tr>\n",
       "      <th>0</th>\n",
       "      <td>training_manager</td>\n",
       "      <td>management</td>\n",
       "      <td>The world's leading private security organizat...</td>\n",
       "      <td>NY</td>\n",
       "    </tr>\n",
       "    <tr>\n",
       "      <th>1</th>\n",
       "      <td>training_manager</td>\n",
       "      <td>management</td>\n",
       "      <td>The Training Manager is responsible for the de...</td>\n",
       "      <td>NY</td>\n",
       "    </tr>\n",
       "    <tr>\n",
       "      <th>2</th>\n",
       "      <td>training_manager</td>\n",
       "      <td>management</td>\n",
       "      <td>The Training Manager of Applied Data Analytics...</td>\n",
       "      <td>NY</td>\n",
       "    </tr>\n",
       "    <tr>\n",
       "      <th>3</th>\n",
       "      <td>training_manager</td>\n",
       "      <td>management</td>\n",
       "      <td>Unqork is the no-code platform that's pioneeri...</td>\n",
       "      <td>NY</td>\n",
       "    </tr>\n",
       "    <tr>\n",
       "      <th>4</th>\n",
       "      <td>training_manager</td>\n",
       "      <td>management</td>\n",
       "      <td>The Training Manager is in charge of training ...</td>\n",
       "      <td>NY</td>\n",
       "    </tr>\n",
       "  </tbody>\n",
       "</table>\n",
       "</div>"
      ],
      "text/plain": [
       "              title    category  \\\n",
       "0  training_manager  management   \n",
       "1  training_manager  management   \n",
       "2  training_manager  management   \n",
       "3  training_manager  management   \n",
       "4  training_manager  management   \n",
       "\n",
       "                                         description location  \n",
       "0  The world's leading private security organizat...       NY  \n",
       "1  The Training Manager is responsible for the de...       NY  \n",
       "2  The Training Manager of Applied Data Analytics...       NY  \n",
       "3  Unqork is the no-code platform that's pioneeri...       NY  \n",
       "4  The Training Manager is in charge of training ...       NY  "
      ]
     },
     "execution_count": 68,
     "metadata": {},
     "output_type": "execute_result"
    }
   ],
   "source": [
    "jobsdf.head()"
   ]
  },
  {
   "cell_type": "code",
   "execution_count": 70,
   "metadata": {},
   "outputs": [],
   "source": [
    "jobsdf['rake_key_words'] = ''\n",
    "r = Rake()\n",
    "for index, row in jobsdf.iterrows():\n",
    "    r.extract_keywords_from_text(row['description'])\n",
    "    key_words_dict_scores = r.get_word_degrees()\n",
    "    row['rake_key_words'] = list(key_words_dict_scores.keys())"
   ]
  },
  {
   "cell_type": "code",
   "execution_count": 72,
   "metadata": {},
   "outputs": [],
   "source": [
    "jobsdf['bag_of_words'] = ''\n",
    "for index, row in jobsdf.iterrows():\n",
    "    words = ''\n",
    "    words += ' '.join(row['rake_key_words']) + ' '\n",
    "    row['bag_of_words'] = words"
   ]
  },
  {
   "cell_type": "code",
   "execution_count": 73,
   "metadata": {},
   "outputs": [
    {
     "data": {
      "text/html": [
       "<div>\n",
       "<style scoped>\n",
       "    .dataframe tbody tr th:only-of-type {\n",
       "        vertical-align: middle;\n",
       "    }\n",
       "\n",
       "    .dataframe tbody tr th {\n",
       "        vertical-align: top;\n",
       "    }\n",
       "\n",
       "    .dataframe thead th {\n",
       "        text-align: right;\n",
       "    }\n",
       "</style>\n",
       "<table border=\"1\" class=\"dataframe\">\n",
       "  <thead>\n",
       "    <tr style=\"text-align: right;\">\n",
       "      <th></th>\n",
       "      <th>title</th>\n",
       "      <th>category</th>\n",
       "      <th>description</th>\n",
       "      <th>location</th>\n",
       "      <th>rake_key_words</th>\n",
       "      <th>bag_of_words</th>\n",
       "    </tr>\n",
       "  </thead>\n",
       "  <tbody>\n",
       "    <tr>\n",
       "      <th>0</th>\n",
       "      <td>training_manager</td>\n",
       "      <td>management</td>\n",
       "      <td>The world's leading private security organizat...</td>\n",
       "      <td>NY</td>\n",
       "      <td>[techniques, •, updates, ensure, security, pro...</td>\n",
       "      <td>techniques • updates ensure security procedure...</td>\n",
       "    </tr>\n",
       "    <tr>\n",
       "      <th>1</th>\n",
       "      <td>training_manager</td>\n",
       "      <td>management</td>\n",
       "      <td>The Training Manager is responsible for the de...</td>\n",
       "      <td>NY</td>\n",
       "      <td>[provide, training, solutions, field, logistic...</td>\n",
       "      <td>provide training solutions field logistics bra...</td>\n",
       "    </tr>\n",
       "    <tr>\n",
       "      <th>2</th>\n",
       "      <td>training_manager</td>\n",
       "      <td>management</td>\n",
       "      <td>The Training Manager of Applied Data Analytics...</td>\n",
       "      <td>NY</td>\n",
       "      <td>[collaboratively, experience, managing, stakeh...</td>\n",
       "      <td>collaboratively experience managing stakeholde...</td>\n",
       "    </tr>\n",
       "    <tr>\n",
       "      <th>3</th>\n",
       "      <td>training_manager</td>\n",
       "      <td>management</td>\n",
       "      <td>Unqork is the no-code platform that's pioneeri...</td>\n",
       "      <td>NY</td>\n",
       "      <td>[learn, built, •, experience, presenting, form...</td>\n",
       "      <td>learn built • experience presenting former cio...</td>\n",
       "    </tr>\n",
       "    <tr>\n",
       "      <th>4</th>\n",
       "      <td>training_manager</td>\n",
       "      <td>management</td>\n",
       "      <td>The Training Manager is in charge of training ...</td>\n",
       "      <td>NY</td>\n",
       "      <td>[training, needs, emphasis, employees, luxury,...</td>\n",
       "      <td>training needs emphasis employees luxury busin...</td>\n",
       "    </tr>\n",
       "    <tr>\n",
       "      <th>...</th>\n",
       "      <td>...</td>\n",
       "      <td>...</td>\n",
       "      <td>...</td>\n",
       "      <td>...</td>\n",
       "      <td>...</td>\n",
       "      <td>...</td>\n",
       "    </tr>\n",
       "    <tr>\n",
       "      <th>259</th>\n",
       "      <td>flight instructor</td>\n",
       "      <td>sports, fitness, &amp; recreation</td>\n",
       "      <td>Wallace State Community College- Hanceville ha...</td>\n",
       "      <td>hanceville, AL</td>\n",
       "      <td>[--, flight, instructor, wallace, state, commu...</td>\n",
       "      <td>-- flight instructor wallace state community c...</td>\n",
       "    </tr>\n",
       "    <tr>\n",
       "      <th>260</th>\n",
       "      <td>dietitian (pool)</td>\n",
       "      <td>sports, fitness, &amp; recreation</td>\n",
       "      <td>The Dietitian plans therapeutic diets and conf...</td>\n",
       "      <td>phenix city, AL</td>\n",
       "      <td>[slippery, temperature, controlled, project, a...</td>\n",
       "      <td>slippery temperature controlled project assign...</td>\n",
       "    </tr>\n",
       "    <tr>\n",
       "      <th>261</th>\n",
       "      <td>youth services aide</td>\n",
       "      <td>sports, fitness, &amp; recreation</td>\n",
       "      <td>The Youth Services Aide is a permanent full-ti...</td>\n",
       "      <td>montgomery, AL</td>\n",
       "      <td>[qualifications, located, placed, non, maintai...</td>\n",
       "      <td>qualifications located placed non maintained p...</td>\n",
       "    </tr>\n",
       "    <tr>\n",
       "      <th>262</th>\n",
       "      <td>nutritionist associate</td>\n",
       "      <td>sports, fitness, &amp; recreation</td>\n",
       "      <td>The Nutritionist Associate is a permanent, ful...</td>\n",
       "      <td>montgomery, AL</td>\n",
       "      <td>[state, permanent, positions, nutritionist, as...</td>\n",
       "      <td>state permanent positions nutritionist associa...</td>\n",
       "    </tr>\n",
       "    <tr>\n",
       "      <th>363</th>\n",
       "      <td>Licensed Real Estate SalesAgent</td>\n",
       "      <td>real estate</td>\n",
       "      <td>Job Description The Licensed Real Estate Sales...</td>\n",
       "      <td>Spanish Fort, AL</td>\n",
       "      <td>[learn, home, buying, needs, •, create, flouri...</td>\n",
       "      <td>learn home buying needs • create flourish stay...</td>\n",
       "    </tr>\n",
       "  </tbody>\n",
       "</table>\n",
       "<p>264 rows × 6 columns</p>\n",
       "</div>"
      ],
      "text/plain": [
       "                               title                       category  \\\n",
       "0                   training_manager                     management   \n",
       "1                   training_manager                     management   \n",
       "2                   training_manager                     management   \n",
       "3                   training_manager                     management   \n",
       "4                   training_manager                     management   \n",
       "..                               ...                            ...   \n",
       "259                flight instructor  sports, fitness, & recreation   \n",
       "260                 dietitian (pool)  sports, fitness, & recreation   \n",
       "261              youth services aide  sports, fitness, & recreation   \n",
       "262           nutritionist associate  sports, fitness, & recreation   \n",
       "363  Licensed Real Estate SalesAgent                    real estate   \n",
       "\n",
       "                                           description          location  \\\n",
       "0    The world's leading private security organizat...                NY   \n",
       "1    The Training Manager is responsible for the de...                NY   \n",
       "2    The Training Manager of Applied Data Analytics...                NY   \n",
       "3    Unqork is the no-code platform that's pioneeri...                NY   \n",
       "4    The Training Manager is in charge of training ...                NY   \n",
       "..                                                 ...               ...   \n",
       "259  Wallace State Community College- Hanceville ha...    hanceville, AL   \n",
       "260  The Dietitian plans therapeutic diets and conf...   phenix city, AL   \n",
       "261  The Youth Services Aide is a permanent full-ti...    montgomery, AL   \n",
       "262  The Nutritionist Associate is a permanent, ful...    montgomery, AL   \n",
       "363  Job Description The Licensed Real Estate Sales...  Spanish Fort, AL   \n",
       "\n",
       "                                        rake_key_words  \\\n",
       "0    [techniques, •, updates, ensure, security, pro...   \n",
       "1    [provide, training, solutions, field, logistic...   \n",
       "2    [collaboratively, experience, managing, stakeh...   \n",
       "3    [learn, built, •, experience, presenting, form...   \n",
       "4    [training, needs, emphasis, employees, luxury,...   \n",
       "..                                                 ...   \n",
       "259  [--, flight, instructor, wallace, state, commu...   \n",
       "260  [slippery, temperature, controlled, project, a...   \n",
       "261  [qualifications, located, placed, non, maintai...   \n",
       "262  [state, permanent, positions, nutritionist, as...   \n",
       "363  [learn, home, buying, needs, •, create, flouri...   \n",
       "\n",
       "                                          bag_of_words  \n",
       "0    techniques • updates ensure security procedure...  \n",
       "1    provide training solutions field logistics bra...  \n",
       "2    collaboratively experience managing stakeholde...  \n",
       "3    learn built • experience presenting former cio...  \n",
       "4    training needs emphasis employees luxury busin...  \n",
       "..                                                 ...  \n",
       "259  -- flight instructor wallace state community c...  \n",
       "260  slippery temperature controlled project assign...  \n",
       "261  qualifications located placed non maintained p...  \n",
       "262  state permanent positions nutritionist associa...  \n",
       "363  learn home buying needs • create flourish stay...  \n",
       "\n",
       "[264 rows x 6 columns]"
      ]
     },
     "execution_count": 73,
     "metadata": {},
     "output_type": "execute_result"
    }
   ],
   "source": [
    "jobsdf"
   ]
  },
  {
   "cell_type": "code",
   "execution_count": 74,
   "metadata": {},
   "outputs": [],
   "source": [
    "df = jobsdf[['title', 'bag_of_words']]"
   ]
  },
  {
   "cell_type": "code",
   "execution_count": 96,
   "metadata": {},
   "outputs": [
    {
     "name": "stdout",
     "output_type": "stream",
     "text": [
      "[[1.         0.22157509 0.17786577 ... 0.08399211 0.19034722 0.07406561]\n",
      " [0.22157509 1.         0.24679284 ... 0.01480385 0.15757982 0.09790709]\n",
      " [0.17786577 0.24679284 1.         ... 0.05006262 0.16044067 0.08583951]\n",
      " ...\n",
      " [0.08399211 0.01480385 0.05006262 ... 1.         0.10173968 0.08164966]\n",
      " [0.19034722 0.15757982 0.16044067 ... 0.10173968 1.         0.05607232]\n",
      " [0.07406561 0.09790709 0.08583951 ... 0.08164966 0.05607232 1.        ]]\n"
     ]
    }
   ],
   "source": [
    "count = CountVectorizer()\n",
    "count_matrix = count.fit_transform(df['bag_of_words'])\n",
    "cosine_sim = cosine_similarity(count_matrix, count_matrix)\n",
    "print(cosine_sim)"
   ]
  },
  {
   "cell_type": "code",
   "execution_count": 97,
   "metadata": {},
   "outputs": [],
   "source": [
    "indices = pd.Series(df['title'])"
   ]
  },
  {
   "cell_type": "code",
   "execution_count": 108,
   "metadata": {},
   "outputs": [],
   "source": [
    "indices = pd.Series(df['title'])\n",
    "def recommend_10(title, cosine_sim = cosine_sim):\n",
    "    recommended_jobs = []\n",
    "    idx = indices[indices == title].index[0]\n",
    "    score_series = pd.Series(cosine_sim[idx]).sort_values(ascending = False)\n",
    "    top_10_indices = list(score_series.iloc[1:11].index)\n",
    "    \n",
    "    for i in top_10_indices:\n",
    "        recommended_jobs.append(list(df['title'])[i])\n",
    "        \n",
    "    return recommended_jobs"
   ]
  },
  {
   "cell_type": "code",
   "execution_count": 86,
   "metadata": {},
   "outputs": [],
   "source": [
    "resume = document_data.rename(columns={\"username\": \"title\"})"
   ]
  },
  {
   "cell_type": "code",
   "execution_count": 87,
   "metadata": {},
   "outputs": [],
   "source": [
    "resume.title = 'resume'"
   ]
  },
  {
   "cell_type": "code",
   "execution_count": 91,
   "metadata": {},
   "outputs": [],
   "source": [
    "resumedf = resume[['title', 'bag_of_words']]"
   ]
  },
  {
   "cell_type": "code",
   "execution_count": 93,
   "metadata": {},
   "outputs": [
    {
     "data": {
      "text/html": [
       "<div>\n",
       "<style scoped>\n",
       "    .dataframe tbody tr th:only-of-type {\n",
       "        vertical-align: middle;\n",
       "    }\n",
       "\n",
       "    .dataframe tbody tr th {\n",
       "        vertical-align: top;\n",
       "    }\n",
       "\n",
       "    .dataframe thead th {\n",
       "        text-align: right;\n",
       "    }\n",
       "</style>\n",
       "<table border=\"1\" class=\"dataframe\">\n",
       "  <thead>\n",
       "    <tr style=\"text-align: right;\">\n",
       "      <th></th>\n",
       "      <th>title</th>\n",
       "      <th>bag_of_words</th>\n",
       "    </tr>\n",
       "  </thead>\n",
       "  <tbody>\n",
       "    <tr>\n",
       "      <th>0</th>\n",
       "      <td>resume</td>\n",
       "      <td>326 employees • mydegree kpis merchandisingedu...</td>\n",
       "    </tr>\n",
       "  </tbody>\n",
       "</table>\n",
       "</div>"
      ],
      "text/plain": [
       "    title                                       bag_of_words\n",
       "0  resume  326 employees • mydegree kpis merchandisingedu..."
      ]
     },
     "execution_count": 93,
     "metadata": {},
     "output_type": "execute_result"
    }
   ],
   "source": [
    "resumedf.head()"
   ]
  },
  {
   "cell_type": "code",
   "execution_count": 94,
   "metadata": {},
   "outputs": [],
   "source": [
    "df = df.append(resumedf)"
   ]
  },
  {
   "cell_type": "code",
   "execution_count": 104,
   "metadata": {},
   "outputs": [],
   "source": [
    "recommended_jobs = recommend_10('resume')"
   ]
  },
  {
   "cell_type": "code",
   "execution_count": 105,
   "metadata": {},
   "outputs": [
    {
     "data": {
      "text/plain": [
       "['account_manager',\n",
       " 'training_manager',\n",
       " 'hr_manager',\n",
       " 'Manufacturing Supervisor',\n",
       " 'Protective Services Manager',\n",
       " 'Admissions Coordinator',\n",
       " 'fraud specialist',\n",
       " 'budget_analyst',\n",
       " 'Proposal Manager',\n",
       " 'Program Coordinator']"
      ]
     },
     "execution_count": 105,
     "metadata": {},
     "output_type": "execute_result"
    }
   ],
   "source": [
    "recommended_jobs"
   ]
  },
  {
   "cell_type": "code",
   "execution_count": 107,
   "metadata": {},
   "outputs": [],
   "source": [
    "def recommend_100(title, cosine_sim = cosine_sim):\n",
    "    recommended_jobs = []\n",
    "    idx = indices[indices == title].index[0]\n",
    "    score_series = pd.Series(cosine_sim[idx]).sort_values(ascending = False)\n",
    "    top_10_indices = list(score_series.iloc[1:101].index)\n",
    "    \n",
    "    for i in top_10_indices:\n",
    "        recommended_jobs.append(list(df['title'])[i])\n",
    "        \n",
    "    return recommended_jobs"
   ]
  },
  {
   "cell_type": "code",
   "execution_count": 109,
   "metadata": {},
   "outputs": [],
   "source": [
    "jobs100 = recommend_100('resume')"
   ]
  },
  {
   "cell_type": "code",
   "execution_count": 132,
   "metadata": {},
   "outputs": [
    {
     "ename": "AttributeError",
     "evalue": "'list' object has no attribute 'lower'",
     "output_type": "error",
     "traceback": [
      "\u001b[1;31m---------------------------------------------------------------------------\u001b[0m",
      "\u001b[1;31mAttributeError\u001b[0m                            Traceback (most recent call last)",
      "\u001b[1;32m<ipython-input-132-c98c10c6eaa8>\u001b[0m in \u001b[0;36m<module>\u001b[1;34m\u001b[0m\n\u001b[1;32m----> 1\u001b[1;33m \u001b[0mjobs100\u001b[0m\u001b[1;33m.\u001b[0m\u001b[0mlower\u001b[0m\u001b[1;33m(\u001b[0m\u001b[1;33m)\u001b[0m\u001b[1;33m\u001b[0m\u001b[1;33m\u001b[0m\u001b[0m\n\u001b[0m",
      "\u001b[1;31mAttributeError\u001b[0m: 'list' object has no attribute 'lower'"
     ]
    }
   ],
   "source": [
    "jobs100.lower()"
   ]
  },
  {
   "cell_type": "code",
   "execution_count": 141,
   "metadata": {},
   "outputs": [],
   "source": [
    "jobs100\n",
    "jobs10 = []\n",
    "for job in jobs100:\n",
    "    job = job.lower().replace(\"_\", \" \").title()\n",
    "    jobs10.append(job)"
   ]
  },
  {
   "cell_type": "code",
   "execution_count": 147,
   "metadata": {},
   "outputs": [],
   "source": [
    "final_jobs10 = []\n",
    "i = 0\n",
    "for job in jobs10:\n",
    "    if len(final_jobs10) < 10:\n",
    "        if job[i] != job[i+1]:\n",
    "            final_jobs10.append(job)\n",
    "            i+=1"
   ]
  },
  {
   "cell_type": "code",
   "execution_count": 148,
   "metadata": {},
   "outputs": [
    {
     "data": {
      "text/plain": [
       "['Account Manager',\n",
       " 'Training Manager',\n",
       " 'Hr Manager',\n",
       " 'Manufacturing Supervisor',\n",
       " 'Protective Services Manager',\n",
       " 'Admissions Coordinator',\n",
       " 'Fraud Specialist',\n",
       " 'Budget Analyst',\n",
       " 'Proposal Manager',\n",
       " 'Budget Analyst']"
      ]
     },
     "execution_count": 148,
     "metadata": {},
     "output_type": "execute_result"
    }
   ],
   "source": [
    "final_jobs10"
   ]
  },
  {
   "cell_type": "code",
   "execution_count": 149,
   "metadata": {},
   "outputs": [],
   "source": [
    "#To select rows whose column value is in list \n",
    "user_titles = jobsdf[jobsdf.title.isin(jobs100)]"
   ]
  },
  {
   "cell_type": "code",
   "execution_count": 150,
   "metadata": {},
   "outputs": [],
   "source": [
    "user_titles = user_titles[['title', 'category']]"
   ]
  },
  {
   "cell_type": "code",
   "execution_count": 151,
   "metadata": {},
   "outputs": [
    {
     "data": {
      "text/html": [
       "<div>\n",
       "<style scoped>\n",
       "    .dataframe tbody tr th:only-of-type {\n",
       "        vertical-align: middle;\n",
       "    }\n",
       "\n",
       "    .dataframe tbody tr th {\n",
       "        vertical-align: top;\n",
       "    }\n",
       "\n",
       "    .dataframe thead th {\n",
       "        text-align: right;\n",
       "    }\n",
       "</style>\n",
       "<table border=\"1\" class=\"dataframe\">\n",
       "  <thead>\n",
       "    <tr style=\"text-align: right;\">\n",
       "      <th></th>\n",
       "      <th>title</th>\n",
       "      <th>category</th>\n",
       "    </tr>\n",
       "  </thead>\n",
       "  <tbody>\n",
       "    <tr>\n",
       "      <th>9</th>\n",
       "      <td>training_manager</td>\n",
       "      <td>management</td>\n",
       "    </tr>\n",
       "    <tr>\n",
       "      <th>19</th>\n",
       "      <td>hr_manager</td>\n",
       "      <td>management</td>\n",
       "    </tr>\n",
       "    <tr>\n",
       "      <th>29</th>\n",
       "      <td>cashier</td>\n",
       "      <td>customer service, sales &amp; retail</td>\n",
       "    </tr>\n",
       "    <tr>\n",
       "      <th>39</th>\n",
       "      <td>account_manager</td>\n",
       "      <td>management</td>\n",
       "    </tr>\n",
       "    <tr>\n",
       "      <th>49</th>\n",
       "      <td>sales_rep</td>\n",
       "      <td>sales &amp; retail</td>\n",
       "    </tr>\n",
       "    <tr>\n",
       "      <th>...</th>\n",
       "      <td>...</td>\n",
       "      <td>...</td>\n",
       "    </tr>\n",
       "    <tr>\n",
       "      <th>249</th>\n",
       "      <td>plant operator</td>\n",
       "      <td>manufacturing &amp; warehouse</td>\n",
       "    </tr>\n",
       "    <tr>\n",
       "      <th>250</th>\n",
       "      <td>specialist - general assembly</td>\n",
       "      <td>manufacturing &amp; warehouse</td>\n",
       "    </tr>\n",
       "    <tr>\n",
       "      <th>255</th>\n",
       "      <td>dietary aide</td>\n",
       "      <td>sports, fitness, &amp; recreation</td>\n",
       "    </tr>\n",
       "    <tr>\n",
       "      <th>256</th>\n",
       "      <td>sr dietary aide</td>\n",
       "      <td>sports, fitness, &amp; recreation</td>\n",
       "    </tr>\n",
       "    <tr>\n",
       "      <th>363</th>\n",
       "      <td>Licensed Real Estate SalesAgent</td>\n",
       "      <td>real estate</td>\n",
       "    </tr>\n",
       "  </tbody>\n",
       "</table>\n",
       "<p>69 rows × 2 columns</p>\n",
       "</div>"
      ],
      "text/plain": [
       "                               title                          category\n",
       "9                   training_manager                        management\n",
       "19                        hr_manager                        management\n",
       "29                           cashier  customer service, sales & retail\n",
       "39                   account_manager                        management\n",
       "49                         sales_rep                    sales & retail\n",
       "..                               ...                               ...\n",
       "249                   plant operator         manufacturing & warehouse\n",
       "250    specialist - general assembly         manufacturing & warehouse\n",
       "255                     dietary aide     sports, fitness, & recreation\n",
       "256                  sr dietary aide     sports, fitness, & recreation\n",
       "363  Licensed Real Estate SalesAgent                       real estate\n",
       "\n",
       "[69 rows x 2 columns]"
      ]
     },
     "execution_count": 151,
     "metadata": {},
     "output_type": "execute_result"
    }
   ],
   "source": [
    "\n",
    "user_titles.drop_duplicates(subset=\"title\", keep=\"last\")"
   ]
  },
  {
   "cell_type": "code",
   "execution_count": 156,
   "metadata": {},
   "outputs": [],
   "source": [
    "categories = list(user_titles.category)"
   ]
  },
  {
   "cell_type": "code",
   "execution_count": 177,
   "metadata": {},
   "outputs": [
    {
     "name": "stdout",
     "output_type": "stream",
     "text": [
      "Frequency of  customer service, sales & retail is : 10\n",
      "Frequency of  art, fashion & design is : 10\n",
      "Frequency of  accounting & finance is : 42\n",
      "Frequency of  real estate is : 1\n",
      "Frequency of  healthcare is : 2\n",
      "Frequency of  management is : 43\n",
      "Frequency of  sports, fitness, & recreation is : 2\n",
      "Frequency of  science & engineering is : 2\n",
      "Frequency of  customer service is : 5\n",
      "Frequency of  sales & retail is : 18\n",
      "Frequency of  education is : 1\n",
      "Frequency of  protective services is : 3\n",
      "Frequency of  admin & office is : 2\n",
      "Frequency of  legal is : 7\n",
      "Frequency of  social services & nonprofit is : 2\n",
      "Frequency of  computer & it is : 5\n",
      "Frequency of  transportation & logistics is : 1\n",
      "Frequency of  manufacturing & warehouse is : 5\n"
     ]
    }
   ],
   "source": [
    "frequency = []\n",
    "def freq(category_list): \n",
    "    \n",
    "    # gives set of unique words \n",
    "    unique_words = set(category_list) \n",
    "      \n",
    "    for words in unique_words : \n",
    "        print('Frequency of ', words , 'is :', category_list.count(words)) \n",
    "        frequency.append(category_list.count(words))\n",
    "        \n",
    "    \n",
    "    \n",
    "  \n",
    "# driver code \n",
    "if __name__ == \"__main__\": \n",
    "     \n",
    "    # calling the freq function \n",
    "    freq(categories) "
   ]
  },
  {
   "cell_type": "code",
   "execution_count": 185,
   "metadata": {},
   "outputs": [
    {
     "data": {
      "text/plain": [
       "[10, 10, 42, 1, 2, 43, 2, 2, 5, 18, 1, 3, 2, 7, 2, 5, 1, 5]"
      ]
     },
     "execution_count": 185,
     "metadata": {},
     "output_type": "execute_result"
    }
   ],
   "source": [
    "frequency"
   ]
  },
  {
   "cell_type": "code",
   "execution_count": 182,
   "metadata": {},
   "outputs": [],
   "source": [
    "unique_words = set(categories)"
   ]
  },
  {
   "cell_type": "code",
   "execution_count": 189,
   "metadata": {},
   "outputs": [],
   "source": [
    "unique_words = list(unique_words)"
   ]
  },
  {
   "cell_type": "code",
   "execution_count": 193,
   "metadata": {},
   "outputs": [],
   "source": [
    "category_values = dict(zip(unique_words, frequency))"
   ]
  },
  {
   "cell_type": "code",
   "execution_count": 194,
   "metadata": {},
   "outputs": [
    {
     "data": {
      "text/plain": [
       "{'customer service, sales & retail': 10,\n",
       " 'art, fashion & design': 10,\n",
       " 'accounting & finance': 42,\n",
       " 'real estate': 1,\n",
       " 'healthcare': 2,\n",
       " 'management': 43,\n",
       " 'sports, fitness, & recreation': 2,\n",
       " 'science & engineering': 2,\n",
       " 'customer service': 5,\n",
       " 'sales & retail': 18,\n",
       " 'education': 1,\n",
       " 'protective services': 3,\n",
       " 'admin & office': 2,\n",
       " 'legal': 7,\n",
       " 'social services & nonprofit': 2,\n",
       " 'computer & it': 5,\n",
       " 'transportation & logistics': 1,\n",
       " 'manufacturing & warehouse': 5}"
      ]
     },
     "execution_count": 194,
     "metadata": {},
     "output_type": "execute_result"
    }
   ],
   "source": [
    "category_values"
   ]
  },
  {
   "cell_type": "code",
   "execution_count": 196,
   "metadata": {},
   "outputs": [],
   "source": [
    "category_dict = {key:val for key, val in category_values.items() if val >= 10}"
   ]
  },
  {
   "cell_type": "code",
   "execution_count": 174,
   "metadata": {},
   "outputs": [],
   "source": []
  },
  {
   "cell_type": "code",
   "execution_count": 175,
   "metadata": {},
   "outputs": [
    {
     "data": {
      "text/plain": [
       "[10, 10, 42, 43, 18]"
      ]
     },
     "execution_count": 175,
     "metadata": {},
     "output_type": "execute_result"
    }
   ],
   "source": [
    "frequency"
   ]
  },
  {
   "cell_type": "code",
   "execution_count": 198,
   "metadata": {},
   "outputs": [
    {
     "data": {
      "image/png": "[encoded data removed]",
      "text/plain": [
       "<Figure size 432x288 with 1 Axes>"
      ]
     },
     "metadata": {},
     "output_type": "display_data"
    }
   ],
   "source": [
    "# library\n",
    "import matplotlib.pyplot as plt\n",
    " \n",
    "# create data\n",
    "size_of_groups=category_dict.values()\n",
    " \n",
    "# Create a pieplot\n",
    "plt.pie(size_of_groups)\n",
    "#plt.show()\n",
    " \n",
    "# add a circle at the center\n",
    "my_circle=plt.Circle( (0,0), 0.7, color='white')\n",
    "p=plt.gcf()\n",
    "p.gca().add_artist(my_circle)\n",
    " \n",
    "plt.show()\n"
   ]
  },
  {
   "cell_type": "code",
   "execution_count": 201,
   "metadata": {},
   "outputs": [
    {
     "data": {
      "image/png": "[encoded data removed]",
      "text/plain": [
       "<Figure size 432x288 with 1 Axes>"
      ]
     },
     "metadata": {},
     "output_type": "display_data"
    }
   ],
   "source": [
    "# create data\n",
    "names=category_dict.keys()\n",
    "size=category_dict.values()\n",
    " \n",
    "# Create a circle for the center of the plot\n",
    "my_circle=plt.Circle( (0,0), 0.7, color='white')\n",
    "\n",
    "# Give color names\n",
    "plt.pie(size, labels=names)\n",
    "p=plt.gcf()\n",
    "p.gca().add_artist(my_circle)\n",
    "plt.show()\n"
   ]
  },
  {
   "cell_type": "code",
   "execution_count": null,
   "metadata": {},
   "outputs": [],
   "source": []
  }
 ],
 "metadata": {
  "kernelspec": {
   "display_name": "Python 3",
   "language": "python",
   "name": "python3"
  },
  "language_info": {
   "codemirror_mode": {
    "name": "ipython",
    "version": 3
   },
   "file_extension": ".py",
   "mimetype": "text/x-python",
   "name": "python",
   "nbconvert_exporter": "python",
   "pygments_lexer": "ipython3",
   "version": "3.7.6"
  }
 },
 "nbformat": 4,
 "nbformat_minor": 4
}
