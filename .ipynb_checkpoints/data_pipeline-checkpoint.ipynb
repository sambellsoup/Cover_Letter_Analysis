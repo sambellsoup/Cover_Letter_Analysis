{
 "cells": [
  {
   "cell_type": "code",
   "execution_count": 1,
   "metadata": {},
   "outputs": [],
   "source": [
    "# library\n",
    "import matplotlib.pyplot as plt\n",
    "import pandas as pd\n",
    "from rake_nltk import Rake\n",
    "from tika import parser\n",
    "from sklearn.metrics.pairwise import cosine_similarity\n",
    "from sklearn.feature_extraction.text import CountVectorizer"
   ]
  },
  {
   "cell_type": "code",
   "execution_count": 2,
   "metadata": {},
   "outputs": [],
   "source": [
    "def document_to_text(document_path):\n",
    "    # document = request.FILES['document']\n",
    "    parsed = parser.from_file(document_path)\n",
    "    text = parsed['content']\n",
    "    if parsed['content'] == None:\n",
    "        print(\"The submitted document cannot be read.\")\n",
    "    try:\n",
    "        text = text.replace('\\n', '')\n",
    "    except:\n",
    "        pass\n",
    "    return text"
   ]
  },
  {
   "cell_type": "code",
   "execution_count": 3,
   "metadata": {},
   "outputs": [],
   "source": [
    "def compile_document_text(text):\n",
    "    job_descriptions = pd.read_csv('data/job_descriptions.csv', index_col=0)\n",
    "    \"\"\"Use this variable for production?\"\"\"\n",
    "    # resume = request.FILES['document']\n",
    "    \"\"\"Use this variable for development\"\"\"\n",
    "#     document_path = (r\"C:\\Users\\sambe\\Projects\\Cover_Letter_Analysis\\data\\documents\\ResumeBrittanyMouzoon.pdf\")\n",
    "#     text = document_to_text(document_path)\n",
    "    data = [['resume', text]]\n",
    "#     print(data)\n",
    "    basic_documentdf = pd.DataFrame(data, columns = ['title', 'description'])\n",
    "    return basic_documentdf"
   ]
  },
  {
   "cell_type": "code",
   "execution_count": 4,
   "metadata": {},
   "outputs": [],
   "source": [
    "def text_to_bagofwords(basic_documentdf):\n",
    "    document_path = (r\"C:\\Users\\sambe\\Projects\\Cover_Letter_Analysis\\data\\documents\\ResumeBrittanyMouzoon.pdf\")\n",
    "#     text = document_to_text(document_path)\n",
    "#     basic_documentdf = compile_document_text(text)\n",
    "    basic_documentdf['rake_key_words'] = ''\n",
    "    r = Rake()\n",
    "    for index, row in basic_documentdf.iterrows():\n",
    "        r.extract_keywords_from_text(row['description'])\n",
    "        key_words_dict_scores = r.get_word_degrees()\n",
    "        row['rake_key_words'] = list(key_words_dict_scores.keys())\n",
    "    # Transform key words into bag of words\n",
    "    basic_documentdf['bag_of_words'] = ''\n",
    "    for index, row in basic_documentdf.iterrows():\n",
    "        words = ''\n",
    "        words += ' '.join(row['rake_key_words']) + ' '\n",
    "        row['bag_of_words'] = words\n",
    "    verbose_documentdf = basic_documentdf\n",
    "    return verbose_documentdf"
   ]
  },
  {
   "cell_type": "code",
   "execution_count": 5,
   "metadata": {},
   "outputs": [],
   "source": [
    "def join_and_condense(verbose_documentdf):\n",
    "    # Slices\n",
    "    job_descriptions = pd.read_csv('data/job_descriptions.csv', index_col=0)\n",
    "    job_descriptions = job_descriptions.append(verbose_documentdf)\n",
    "    recommend_df = job_descriptions[['title', 'bag_of_words']]\n",
    "    return recommend_df"
   ]
  },
  {
   "cell_type": "code",
   "execution_count": 6,
   "metadata": {},
   "outputs": [],
   "source": [
    "def vectorize_text(recommend_df):\n",
    "    count = CountVectorizer()\n",
    "#     recommend_df = join_and_condense()\n",
    "    count_matrix = count.fit_transform(recommend_df['bag_of_words'])\n",
    "    cosine_sim = cosine_similarity(count_matrix, count_matrix)\n",
    "    return cosine_sim"
   ]
  },
  {
   "cell_type": "code",
   "execution_count": 7,
   "metadata": {},
   "outputs": [],
   "source": [
    "def recommend_100(title, cosine_sim):\n",
    "    document_path = (r\"C:\\Users\\sambe\\Projects\\Cover_Letter_Analysis\\data\\documents\\ResumeBrittanyMouzoon.pdf\")\n",
    "    text = document_to_text(document_path)\n",
    "    basic_documentdf = compile_document_text(text)\n",
    "    verbose_documentdf = text_to_bagofwords(basic_documentdf)\n",
    "    recommend_df = join_and_condense(verbose_documentdf)\n",
    "    cosine_sim = vectorize_text(recommend_df)\n",
    "    recommended_jobs = []\n",
    "    indices = pd.Series(recommend_df['title'])\n",
    "    idx = indices[indices == title].index[0]\n",
    "    score_series = pd.Series(cosine_sim[idx]).sort_values(ascending = False)\n",
    "    top_10_indices = list(score_series.iloc[1:101].index)\n",
    "\n",
    "    for i in top_10_indices:\n",
    "        recommended_jobs.append(list(recommend_df['title'])[i])\n",
    "\n",
    "    return recommended_jobs"
   ]
  },
  {
   "cell_type": "code",
   "execution_count": 97,
   "metadata": {},
   "outputs": [],
   "source": [
    "def format_recommendations(recommended_jobs):\n",
    "#     jobs100 = recommend_100('resume')\n",
    "    jobs10 = []\n",
    "    for job in recommended_jobs:\n",
    "        job = job.lower().replace(\"_\", \" \").title()\n",
    "        job = job.replace('Hr Manager', 'HR Manager')\n",
    "        jobs10.append(job)\n",
    "    jobs10 = set(jobs10[0:20])\n",
    "    jobs10 = list(jobs10)\n",
    "    final_jobs10 = jobs10[0:10]\n",
    "\n",
    "#     for i, item in enumerate(final_jobs10,1):\n",
    "#         print(i, '. ' + item + '\\n', sep='',end='')\n",
    "#     print(final_jobs10)    \n",
    "    return final_jobs10"
   ]
  },
  {
   "cell_type": "code",
   "execution_count": 98,
   "metadata": {},
   "outputs": [],
   "source": [
    "def top_100_categories(recommended_jobs):\n",
    "    df = pd.read_csv('data/job_descriptions.csv', index_col=0)\n",
    "#     jobs100 = recommend_100('resume')\n",
    "    user_titles = df[df.title.isin(recommended_jobs)]\n",
    "    user_titles = user_titles[['title', 'category']]\n",
    "    user_titles.drop_duplicates(subset=\"title\", keep=\"last\")\n",
    "    category_list = list(user_titles.category)\n",
    "    return category_list"
   ]
  },
  {
   "cell_type": "code",
   "execution_count": 99,
   "metadata": {},
   "outputs": [],
   "source": [
    "def freq(category_list):\n",
    "    frequency = []\n",
    "    document_path = (r\"C:\\Users\\sambe\\Projects\\Cover_Letter_Analysis\\data\\documents\\ResumeBrittanyMouzoon.pdf\")\n",
    "    text = document_to_text(document_path)\n",
    "    basic_documentdf = compile_document_text(text)\n",
    "    verbose_documentdf = text_to_bagofwords(basic_documentdf)\n",
    "    recommend_df = join_and_condense(verbose_documentdf)\n",
    "    cosine = vectorize_text(recommend_df)\n",
    "    title = 'resume'\n",
    "    recommended_jobs = recommend_100(title, cosine)\n",
    "    categories = top_100_categories(recommended_jobs)\n",
    "    # gives set of unique words\n",
    "    unique_words = set(categories)\n",
    "    for words in unique_words :\n",
    "        frequency.append(category_list.count(words))\n",
    "    return frequency"
   ]
  },
  {
   "cell_type": "code",
   "execution_count": 100,
   "metadata": {},
   "outputs": [],
   "source": [
    "def viz_data(category_list, frequency):\n",
    "#     categories = top_100_categories()\n",
    "#     frequency = freq(categories)\n",
    "    unique_words = set(category_list)\n",
    "    unique_words = list(unique_words)\n",
    "    category_values = dict(zip(unique_words, frequency))\n",
    "    category_dict = {key:val for key, val in category_values.items() if val >= 10}\n",
    "    # create data\n",
    "    names=category_dict.keys()\n",
    "    size=category_dict.values()\n",
    "    return names, size"
   ]
  },
  {
   "cell_type": "code",
   "execution_count": 101,
   "metadata": {},
   "outputs": [],
   "source": [
    "def make_viz(names, size):\n",
    "#     categories = top_100_categories()\n",
    "#     freq(categories)\n",
    "#     names, size = viz_data()\n",
    "# Create a circle for the center of the plot\n",
    "    my_circle=plt.Circle( (0,0), 0.7, color='white')\n",
    "# Give color names\n",
    "    plt.title('Strength Summary')\n",
    "    plt.pie(size, labels=names)\n",
    "    p=plt.gcf()\n",
    "    p.gca().add_artist(my_circle)\n",
    "    plt.show()"
   ]
  },
  {
   "cell_type": "code",
   "execution_count": 102,
   "metadata": {},
   "outputs": [],
   "source": [
    "def analyze(document_path):\n",
    "    document_path = (r\"C:\\Users\\sambe\\Projects\\Cover_Letter_Analysis\\data\\documents\\ResumeBrittanyMouzoon.pdf\")\n",
    "    text = document_to_text(document_path)\n",
    "#     print(\"Extracting text from document...\")\n",
    "    basic_documentdf = compile_document_text(text)\n",
    "#     print(\"Creating dataframe...\")\n",
    "    verbose_documentdf = text_to_bagofwords(basic_documentdf)\n",
    "#     print(\"Extracting key words from text...\")\n",
    "    recommend_df = join_and_condense(verbose_documentdf)\n",
    "#     print(\"Compiling data...\")\n",
    "    cosine_sim = vectorize_text(recommend_df)\n",
    "#     print(\"Calculating similarities...\")\n",
    "    recommended_jobs = recommend_100('resume', cosine_sim)\n",
    "#     print(\"Retrieving top recommendations...\")\n",
    "    top10 = format_recommendations(recommended_jobs)\n",
    "#     print(\"Formatting top recommendations...\")\n",
    "    category_list = top_100_categories(recommended_jobs)\n",
    "#     print(\"Retrieving relevant job categories...\")\n",
    "    frequency = freq(category_list)\n",
    "#     print(\"Calculating the most common job categories...\")\n",
    "    names, size = viz_data(category_list, frequency)\n",
    "#     print(\"Compiling data...\")\n",
    "    strength_summary = make_viz(names, size)"
   ]
  },
  {
   "cell_type": "code",
   "execution_count": 103,
   "metadata": {},
   "outputs": [
    {
     "data": {
      "image/png": "[encoded data removed]",
      "text/plain": [
       "<Figure size 432x288 with 1 Axes>"
      ]
     },
     "metadata": {},
     "output_type": "display_data"
    }
   ],
   "source": [
    "document_path = (r\"C:\\Users\\sambe\\Projects\\Cover_Letter_Analysis\\data\\documents\\ResumeBrittanyMouzoon.pdf\")\n",
    "analyze(document_path)"
   ]
  },
  {
   "cell_type": "code",
   "execution_count": 104,
   "metadata": {},
   "outputs": [],
   "source": [
    "def top10(document_path):\n",
    "    document_path = (r\"C:\\Users\\sambe\\Projects\\Cover_Letter_Analysis\\data\\documents\\ResumeBrittanyMouzoon.pdf\")\n",
    "    text = document_to_text(document_path)\n",
    "#     print(\"Extracting text from document...\")\n",
    "    basic_documentdf = compile_document_text(text)\n",
    "#     print(\"Creating dataframe...\")\n",
    "    verbose_documentdf = text_to_bagofwords(basic_documentdf)\n",
    "#     print(\"Extracting key words from text...\")\n",
    "    recommend_df = join_and_condense(verbose_documentdf)\n",
    "#     print(\"Compiling data...\")\n",
    "    cosine_sim = vectorize_text(recommend_df)\n",
    "#     print(\"Calculating similarities...\")\n",
    "    recommended_jobs = recommend_100('resume', cosine_sim)\n",
    "#     print(\"Retrieving top recommendations...\")\n",
    "    recommendations = format_recommendations(recommended_jobs)\n",
    "    return recommendations"
   ]
  },
  {
   "cell_type": "code",
   "execution_count": 106,
   "metadata": {},
   "outputs": [],
   "source": [
    "recommendations = top10(document_path)"
   ]
  },
  {
   "cell_type": "code",
   "execution_count": 107,
   "metadata": {},
   "outputs": [
    {
     "data": {
      "text/plain": [
       "list"
      ]
     },
     "execution_count": 107,
     "metadata": {},
     "output_type": "execute_result"
    }
   ],
   "source": [
    "type(recommendations)"
   ]
  },
  {
   "cell_type": "code",
   "execution_count": 108,
   "metadata": {},
   "outputs": [
    {
     "data": {
      "text/plain": [
       "['Training Manager',\n",
       " 'Executive Director',\n",
       " 'Document Management Analyst',\n",
       " 'Medical Science Liaison',\n",
       " 'Manufacturing Supervisor',\n",
       " 'Admissions Coordinator',\n",
       " 'Fraud Specialist',\n",
       " 'Manufacturing Planner',\n",
       " 'Director Of Medical Specialty Clinics',\n",
       " 'Health Program Manager']"
      ]
     },
     "execution_count": 108,
     "metadata": {},
     "output_type": "execute_result"
    }
   ],
   "source": [
    "recommendations "
   ]
  },
  {
   "cell_type": "code",
   "execution_count": 75,
   "metadata": {},
   "outputs": [
    {
     "name": "stdout",
     "output_type": "stream",
     "text": [
      "None\n"
     ]
    }
   ],
   "source": [
    "top10(document_path)"
   ]
  },
  {
   "cell_type": "code",
   "execution_count": null,
   "metadata": {},
   "outputs": [],
   "source": []
  }
 ],
 "metadata": {
  "kernelspec": {
   "display_name": "Python 3",
   "language": "python",
   "name": "python3"
  },
  "language_info": {
   "codemirror_mode": {
    "name": "ipython",
    "version": 3
   },
   "file_extension": ".py",
   "mimetype": "text/x-python",
   "name": "python",
   "nbconvert_exporter": "python",
   "pygments_lexer": "ipython3",
   "version": "3.7.6"
  }
 },
 "nbformat": 4,
 "nbformat_minor": 4
}
