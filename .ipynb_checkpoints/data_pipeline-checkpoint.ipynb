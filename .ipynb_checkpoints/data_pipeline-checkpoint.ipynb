{
 "cells": [
  {
   "cell_type": "code",
   "execution_count": 1,
   "metadata": {},
   "outputs": [],
   "source": [
    "# library\n",
    "import matplotlib.pyplot as plt\n",
    "import pandas as pd\n",
    "from rake_nltk import Rake\n",
    "from tika import parser\n",
    "from sklearn.metrics.pairwise import cosine_similarity\n",
    "from sklearn.feature_extraction.text import CountVectorizer"
   ]
  },
  {
   "cell_type": "code",
   "execution_count": 2,
   "metadata": {},
   "outputs": [],
   "source": [
    "def document_to_text(document):\n",
    "    document = (r\"C:\\Users\\sambe\\Projects\\Cover_Letter_Analysis\\data\\documents\\ResumeBrittanyMouzoon.pdf\")\n",
    "#   document = request.FILES['document']\n",
    "    parsed = parser.from_file(document)\n",
    "    text = parsed['content']\n",
    "    if parsed['content'] == None:\n",
    "        print(\"The submitted document cannot be read.\")\n",
    "    try:\n",
    "        text = text.replace('\\n', '')\n",
    "    except:\n",
    "        pass\n",
    "    return text"
   ]
  },
  {
   "cell_type": "code",
   "execution_count": 3,
   "metadata": {},
   "outputs": [],
   "source": [
    "def compile_document_text():\n",
    "    job_descriptions = pd.read_csv('data/job_descriptions.csv', index_col=0)\n",
    "#     resume = request.FILES['document']\n",
    "    resume = (r\"C:\\Users\\sambe\\Projects\\Cover_Letter_Analysis\\data\\documents\\ResumeBrittanyMouzoon.pdf\")\n",
    "    text = document_to_text(resume)\n",
    "    data = [['resume', text]]\n",
    "#     print(data)\n",
    "    documentdf = pd.DataFrame(data, columns = ['title', 'description'])\n",
    "    return documentdf"
   ]
  },
  {
   "cell_type": "code",
   "execution_count": 4,
   "metadata": {},
   "outputs": [],
   "source": [
    "def text_to_bagofwords(df):\n",
    "    documentdf = compile_document_text()\n",
    "    documentdf['rake_key_words'] = ''\n",
    "    r = Rake()\n",
    "    for index, row in documentdf.iterrows():\n",
    "        r.extract_keywords_from_text(row['description'])\n",
    "        key_words_dict_scores = r.get_word_degrees()\n",
    "        row['rake_key_words'] = list(key_words_dict_scores.keys())\n",
    "    # Transform key words into bag of words\n",
    "    documentdf['bag_of_words'] = ''\n",
    "    for index, row in documentdf.iterrows():\n",
    "        words = ''\n",
    "        words += ' '.join(row['rake_key_words']) + ' '\n",
    "        row['bag_of_words'] = words\n",
    "    return documentdf"
   ]
  },
  {
   "cell_type": "code",
   "execution_count": 5,
   "metadata": {},
   "outputs": [],
   "source": [
    "def join_and_condense():\n",
    "    # Slices\n",
    "    resume = (r\"C:\\Users\\sambe\\Projects\\Cover_Letter_Analysis\\data\\documents\\ResumeBrittanyMouzoon.pdf\")\n",
    "    job_descriptions = pd.read_csv('data/job_descriptions.csv', index_col=0)\n",
    "    text = document_to_text(resume)\n",
    "    documentdf = compile_document_text()\n",
    "    documentdf = text_to_bagofwords(documentdf)\n",
    "    job_descriptions = job_descriptions.append(documentdf)\n",
    "    recommend_df = job_descriptions[['title', 'bag_of_words']]\n",
    "    return recommend_df"
   ]
  },
  {
   "cell_type": "code",
   "execution_count": 6,
   "metadata": {},
   "outputs": [],
   "source": [
    "def vectorize_text():\n",
    "    count = CountVectorizer()\n",
    "    recommend_df = join_and_condense()\n",
    "    count_matrix = count.fit_transform(recommend_df['bag_of_words'])\n",
    "    cosine_sim = cosine_similarity(count_matrix, count_matrix)\n",
    "    return cosine_sim"
   ]
  },
  {
   "cell_type": "code",
   "execution_count": 7,
   "metadata": {},
   "outputs": [],
   "source": [
    "def recommend_10(title, cosine_sim):\n",
    "    cosine_sim = vectorize_text()\n",
    "    indices = pd.Series(df['title'])\n",
    "    recommend_df = join_and_condense()\n",
    "    recommended_jobs = []\n",
    "    idx = indices[indices == title].index[0]\n",
    "    score_series = pd.Series(cosine_sim[idx]).sort_values(ascending = False)\n",
    "    top_10_indices = list(score_series.iloc[1:11].index)\n",
    "\n",
    "    for i in top_10_indices:\n",
    "        recommended_jobs.append(list(df['title'])[i])\n",
    "\n",
    "    return recommended_jobs"
   ]
  },
  {
   "cell_type": "code",
   "execution_count": 8,
   "metadata": {},
   "outputs": [],
   "source": [
    "def recommend_100(title, cosine_sim):\n",
    "    cosine_sim = vectorize_text()\n",
    "    recommended_jobs = []\n",
    "    df = join_and_condense()\n",
    "    indices = pd.Series(df['title'])\n",
    "    idx = indices[indices == title].index[0]\n",
    "    score_series = pd.Series(cosine_sim[idx]).sort_values(ascending = False)\n",
    "    top_10_indices = list(score_series.iloc[1:101].index)\n",
    "\n",
    "    for i in top_10_indices:\n",
    "        recommended_jobs.append(list(df['title'])[i])\n",
    "\n",
    "    return recommended_jobs"
   ]
  },
  {
   "cell_type": "code",
   "execution_count": 9,
   "metadata": {},
   "outputs": [],
   "source": [
    "def format_recommendations():\n",
    "    cosine_sim = vectorize_text()\n",
    "    jobs100 = recommend_100('resume', cosine_sim)\n",
    "    jobs10 = []\n",
    "    for job in jobs100:\n",
    "        job = job.lower().replace(\"_\", \" \").title()\n",
    "        job = job.replace('Hr Manager', 'HR Manager')\n",
    "        jobs10.append(job)\n",
    "    jobs10 = set(jobs10[0:20])\n",
    "    jobs10 = list(jobs10)\n",
    "    final_jobs10 = jobs10[0:10]\n",
    "\n",
    "    for i, item in enumerate(final_jobs10,1):\n",
    "        print(i, '. ' + item + '\\n', sep='',end='')"
   ]
  },
  {
   "cell_type": "code",
   "execution_count": 10,
   "metadata": {},
   "outputs": [],
   "source": [
    "def top_100_categories():\n",
    "    cosine_sim = vectorize_text()\n",
    "    df = pd.read_csv('data/job_descriptions.csv', index_col=0)\n",
    "    jobs100 = recommend_100('resume', cosine_sim)\n",
    "    user_titles = df[df.title.isin(jobs100)]\n",
    "    user_titles = user_titles[['title', 'category']]\n",
    "    user_titles.drop_duplicates(subset=\"title\", keep=\"last\")\n",
    "\n",
    "    categories = list(user_titles.category)\n",
    "    return categories"
   ]
  },
  {
   "cell_type": "code",
   "execution_count": 11,
   "metadata": {},
   "outputs": [],
   "source": [
    "def freq(category_list):\n",
    "\n",
    "    frequency = []\n",
    "    categories = top_100_categories()\n",
    "\n",
    "    # gives set of unique words\n",
    "    unique_words = set(categories)\n",
    "\n",
    "    for words in unique_words :\n",
    "        frequency.append(category_list.count(words))\n",
    "    return frequency\n",
    "\n"
   ]
  },
  {
   "cell_type": "code",
   "execution_count": 12,
   "metadata": {},
   "outputs": [],
   "source": [
    "def viz_data():\n",
    "    \n",
    "    categories = top_100_categories()\n",
    "    frequency = freq(categories)\n",
    "    unique_words = set(categories)\n",
    "    unique_words = list(unique_words)\n",
    "    category_values = dict(zip(unique_words, frequency))\n",
    "    category_dict = {key:val for key, val in category_values.items() if val >= 10}\n",
    "\n",
    "    # create data\n",
    "    names=category_dict.keys()\n",
    "    size=category_dict.values()\n",
    "    return names, size"
   ]
  },
  {
   "cell_type": "code",
   "execution_count": 13,
   "metadata": {},
   "outputs": [],
   "source": [
    "def make_viz():\n",
    "    categories = top_100_categories()\n",
    "    freq(categories)\n",
    "    names, size = viz_data()\n",
    "\n",
    "# Create a circle for the center of the plot\n",
    "    my_circle=plt.Circle( (0,0), 0.7, color='white')\n",
    "\n",
    "# Give color names\n",
    "    plt.title('Strength Summary')\n",
    "    plt.pie(size, labels=names)\n",
    "    p=plt.gcf()\n",
    "    p.gca().add_artist(my_circle)\n",
    "    plt.show()"
   ]
  },
  {
   "cell_type": "code",
   "execution_count": 14,
   "metadata": {},
   "outputs": [
    {
     "name": "stdout",
     "output_type": "stream",
     "text": [
      "1. Admissions Coordinator\n",
      "2. Account Manager\n",
      "3. Budget Analyst\n",
      "4. Paralegal\n",
      "5. Security Officer\n",
      "6. Training Manager\n",
      "7. HR Manager\n",
      "8. Proposal Manager\n",
      "9. Executive Director\n",
      "10. Protective Services Manager\n"
     ]
    }
   ],
   "source": [
    "format_recommendations()"
   ]
  },
  {
   "cell_type": "code",
   "execution_count": 15,
   "metadata": {},
   "outputs": [
    {
     "data": {
      "image/png": "[encoded data removed]",
      "text/plain": [
       "<Figure size 432x288 with 1 Axes>"
      ]
     },
     "metadata": {},
     "output_type": "display_data"
    }
   ],
   "source": [
    "make_viz()"
   ]
  },
  {
   "cell_type": "code",
   "execution_count": null,
   "metadata": {},
   "outputs": [],
   "source": []
  }
 ],
 "metadata": {
  "kernelspec": {
   "display_name": "Python 3",
   "language": "python",
   "name": "python3"
  },
  "language_info": {
   "codemirror_mode": {
    "name": "ipython",
    "version": 3
   },
   "file_extension": ".py",
   "mimetype": "text/x-python",
   "name": "python",
   "nbconvert_exporter": "python",
   "pygments_lexer": "ipython3",
   "version": "3.7.6"
  }
 },
 "nbformat": 4,
 "nbformat_minor": 4
}
