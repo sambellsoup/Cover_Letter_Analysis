{
 "cells": [
  {
   "cell_type": "code",
   "execution_count": 1,
   "metadata": {},
   "outputs": [],
   "source": [
    "# library\n",
    "import matplotlib.pyplot as plt\n",
    "import pandas as pd\n",
    "from rake_nltk import Rake\n",
    "from tika import parser\n",
    "from sklearn.metrics.pairwise import cosine_similarity\n",
    "from sklearn.feature_extraction.text import CountVectorizer"
   ]
  },
  {
   "cell_type": "code",
   "execution_count": 2,
   "metadata": {},
   "outputs": [],
   "source": [
    "def document_to_text(document_path):\n",
    "    # document = request.FILES['document']\n",
    "    parsed = parser.from_file(document_path)\n",
    "    text = parsed['content']\n",
    "    if parsed['content'] == None:\n",
    "        print(\"The submitted document cannot be read.\")\n",
    "    try:\n",
    "        text = text.replace('\\n', '')\n",
    "    except:\n",
    "        pass\n",
    "    return text"
   ]
  },
  {
   "cell_type": "code",
   "execution_count": 3,
   "metadata": {},
   "outputs": [],
   "source": [
    "def compile_document_text(text):\n",
    "    job_descriptions = pd.read_csv('data/job_descriptions.csv', index_col=0)\n",
    "    data = [['resume', text]]\n",
    "    basic_documentdf = pd.DataFrame(data, columns = ['title', 'description'])\n",
    "    return basic_documentdf"
   ]
  },
  {
   "cell_type": "code",
   "execution_count": 4,
   "metadata": {},
   "outputs": [],
   "source": [
    "def text_to_bagofwords(df):\n",
    "    df['rake_key_words'] = ''\n",
    "    r = Rake()\n",
    "    for index, row in df.iterrows():\n",
    "        r.extract_keywords_from_text(row['description'])\n",
    "        key_words_dict_scores = r.get_word_degrees()\n",
    "        row['rake_key_words'] = list(key_words_dict_scores.keys())\n",
    "# Transform key words into bag of words\n",
    "    df['bag_of_words'] = ''\n",
    "    for index, row in df.iterrows():\n",
    "        words = ''\n",
    "        words += ' '.join(row['rake_key_words']) + ' '\n",
    "        row['bag_of_words'] = words\n",
    "    verbose_documentdf = df\n",
    "    return verbose_documentdf"
   ]
  },
  {
   "cell_type": "code",
   "execution_count": 5,
   "metadata": {},
   "outputs": [],
   "source": [
    "def join_and_condense(df):\n",
    "    job_descriptions = pd.read_csv('data/job_descriptions.csv', index_col=0)\n",
    "    job_descriptions = job_descriptions.append(df)\n",
    "    recommend_df = job_descriptions[['title', 'bag_of_words']]\n",
    "    return recommend_df"
   ]
  },
  {
   "cell_type": "code",
   "execution_count": 6,
   "metadata": {},
   "outputs": [],
   "source": [
    "def vectorize_text(df):\n",
    "    count = CountVectorizer()\n",
    "    count_matrix = count.fit_transform(df['bag_of_words'])\n",
    "    cosine_sim = cosine_similarity(count_matrix, count_matrix)\n",
    "    return cosine_sim"
   ]
  },
  {
   "cell_type": "code",
   "execution_count": 7,
   "metadata": {},
   "outputs": [],
   "source": [
    "def recommend_100(df, matrix):\n",
    "    recommended_jobs = []\n",
    "    indices = pd.Series(df['title'])\n",
    "    idx = indices[indices == 'resume'].index[0]\n",
    "    score_series = pd.Series(matrix[idx]).sort_values(ascending = False)\n",
    "    top_10_indices = list(score_series.iloc[1:101].index)\n",
    "\n",
    "    for i in top_10_indices:\n",
    "        recommended_jobs.append(list(df['title'])[i])\n",
    "\n",
    "    return recommended_jobs"
   ]
  },
  {
   "cell_type": "code",
   "execution_count": 8,
   "metadata": {},
   "outputs": [],
   "source": [
    "def format_recommendations(recommendations):\n",
    "    jobs10 = []\n",
    "    for job in recommendations:\n",
    "        job = job.lower().replace(\"_\", \" \").title()\n",
    "        job = job.replace('Hr Manager', 'HR Manager')\n",
    "        jobs10.append(job)\n",
    "    jobs10 = set(jobs10[0:20])\n",
    "    jobs10 = list(jobs10)\n",
    "    final_jobs10 = jobs10[0:10]\n",
    "    for i, item in enumerate(final_jobs10, 1):\n",
    "        print(i, '. ' + item + '\\n', sep='',end='')\n",
    "    return final_jobs10"
   ]
  },
  {
   "cell_type": "code",
   "execution_count": 9,
   "metadata": {},
   "outputs": [],
   "source": [
    "def top_100_categories(recommendations):\n",
    "    df = pd.read_csv('data/job_descriptions.csv', index_col=0)\n",
    "    user_titles = df[df.title.isin(recommendations)]\n",
    "    user_titles = user_titles[['title', 'category']]\n",
    "    user_titles = user_titles.drop_duplicates(subset=\"title\", keep=\"last\")\n",
    "    category_list = list(user_titles.category)\n",
    "    return category_list"
   ]
  },
  {
   "cell_type": "code",
   "execution_count": 10,
   "metadata": {},
   "outputs": [],
   "source": [
    "def freq(list_of_categories):\n",
    "    frequency = []\n",
    "    unique_words = set(list_of_categories)\n",
    "    for words in unique_words :\n",
    "        frequency.append(list_of_categories.count(words))\n",
    "    return frequency"
   ]
  },
  {
   "cell_type": "code",
   "execution_count": 16,
   "metadata": {},
   "outputs": [],
   "source": [
    "def viz_data(list_of_categories, frequency_of_categories):\n",
    "    unique_words = set(list_of_categories)\n",
    "    unique_words = list(unique_words)\n",
    "    category_values = dict(zip(unique_words, frequency_of_categories))\n",
    "    category_dict = {key:val for key, val in category_values.items() if val >= 10}\n",
    "    names=category_dict.keys()\n",
    "    size=category_dict.values()\n",
    "    return names, size"
   ]
  },
  {
   "cell_type": "code",
   "execution_count": 17,
   "metadata": {},
   "outputs": [],
   "source": [
    "def make_viz(names_of_categories, size_of_categories):\n",
    "# Create a circle for the center of the plot\n",
    "    my_circle=plt.Circle( (0,0), 0.7, color='white')\n",
    "# Give color names\n",
    "    plt.title('Strength Summary')\n",
    "    plt.pie(size_of_categories, labels=names_of_categories)\n",
    "    p=plt.gcf()\n",
    "    p.gca().add_artist(my_circle)\n",
    "    plt.show()"
   ]
  },
  {
   "cell_type": "code",
   "execution_count": 18,
   "metadata": {},
   "outputs": [],
   "source": [
    "def analyze(document_path):\n",
    "    resume_text = document_to_text(document_path)\n",
    "    basic_documentdf = compile_document_text(resume_text)\n",
    "    verbose_documentdf = text_to_bagofwords(basic_documentdf)\n",
    "    recommend_df = join_and_condense(verbose_documentdf)\n",
    "    cosine_sim = vectorize_text(recommend_df)\n",
    "    recommended_jobs = recommend_100(recommend_df, cosine_sim)\n",
    "    final_jobs10 = format_recommendations(recommended_jobs)\n",
    "    category_list = top_100_categories(recommended_jobs)\n",
    "    frequency = freq(category_list)\n",
    "    names, size = viz_data(category_list, frequency)\n",
    "    strength_summary = make_viz(names, size)"
   ]
  },
  {
   "cell_type": "code",
   "execution_count": 19,
   "metadata": {},
   "outputs": [],
   "source": [
    "def final_rec(document_path):\n",
    "    text = document_to_text(document_path)\n",
    "    basic_documentdf = compile_document_text(text)\n",
    "    verbose_documentdf = text_to_bagofwords(basic_documentdf)\n",
    "    recommend_df = join_and_condense(verbose_documentdf)\n",
    "    cosine_sim = vectorize_text(recommend_df)\n",
    "    recommended_jobs = recommend_100(document_path, 'resume', cosine_sim)\n",
    "    recommendations = format_recommendations(recommended_jobs)\n",
    "    return recommendations"
   ]
  },
  {
   "cell_type": "code",
   "execution_count": 20,
   "metadata": {},
   "outputs": [
    {
     "name": "stdout",
     "output_type": "stream",
     "text": [
      "1. Account Manager\n",
      "2. Manufacturing Supervisor\n",
      "3. Protective Services Manager\n",
      "4. Executive Director\n",
      "5. Document Management Analyst\n",
      "6. Medical Science Liaison\n",
      "7. Program Coordinator\n",
      "8. Paralegal\n",
      "9. Admissions Coordinator\n",
      "10. HR Manager\n"
     ]
    },
    {
     "data": {
      "image/png": "[encoded data removed]",
      "text/plain": [
       "<Figure size 432x288 with 1 Axes>"
      ]
     },
     "metadata": {},
     "output_type": "display_data"
    }
   ],
   "source": [
    "document_path = (r\"C:\\Users\\sambe\\Projects\\Cover_Letter_Analysis\\data\\documents\\ResumeAnassaMiller.pdf\")\n",
    "analyze(document_path)"
   ]
  },
  {
   "cell_type": "code",
   "execution_count": 21,
   "metadata": {},
   "outputs": [
    {
     "name": "stdout",
     "output_type": "stream",
     "text": [
      "1. Account Manager\n",
      "2. Manufacturing Supervisor\n",
      "3. Protective Services Manager\n",
      "4. Executive Director\n",
      "5. Document Management Analyst\n",
      "6. Medical Science Liaison\n",
      "7. Program Coordinator\n",
      "8. Paralegal\n",
      "9. Admissions Coordinator\n",
      "10. HR Manager\n"
     ]
    },
    {
     "data": {
      "image/png": "[encoded data removed]",
      "text/plain": [
       "<Figure size 432x288 with 1 Axes>"
      ]
     },
     "metadata": {},
     "output_type": "display_data"
    }
   ],
   "source": [
    "document_path = (r\"C:\\Users\\sambe\\Projects\\Cover_Letter_Analysis\\data\\documents\\ResumeAhmadPirzada.pdf\")\n",
    "analyze(document_path)"
   ]
  },
  {
   "cell_type": "code",
   "execution_count": 22,
   "metadata": {},
   "outputs": [
    {
     "name": "stdout",
     "output_type": "stream",
     "text": [
      "1. Account Manager\n",
      "2. Manufacturing Supervisor\n",
      "3. Protective Services Manager\n",
      "4. Executive Director\n",
      "5. Document Management Analyst\n",
      "6. Medical Science Liaison\n",
      "7. Program Coordinator\n",
      "8. Paralegal\n",
      "9. Admissions Coordinator\n",
      "10. HR Manager\n"
     ]
    },
    {
     "data": {
      "image/png": "[encoded data removed]",
      "text/plain": [
       "<Figure size 432x288 with 1 Axes>"
      ]
     },
     "metadata": {},
     "output_type": "display_data"
    }
   ],
   "source": [
    "document_path = (r\"C:\\Users\\sambe\\Projects\\Cover_Letter_Analysis\\data\\documents\\ResumeAteliaDeaza.pdf\")\n",
    "analyze(document_path)"
   ]
  },
  {
   "cell_type": "code",
   "execution_count": 23,
   "metadata": {},
   "outputs": [
    {
     "name": "stdout",
     "output_type": "stream",
     "text": [
      "1. Account Manager\n",
      "2. Manufacturing Supervisor\n",
      "3. Protective Services Manager\n",
      "4. Executive Director\n",
      "5. Document Management Analyst\n",
      "6. Medical Science Liaison\n",
      "7. Program Coordinator\n",
      "8. Paralegal\n",
      "9. Admissions Coordinator\n",
      "10. HR Manager\n"
     ]
    },
    {
     "data": {
      "image/png": "[encoded data removed]",
      "text/plain": [
       "<Figure size 432x288 with 1 Axes>"
      ]
     },
     "metadata": {},
     "output_type": "display_data"
    }
   ],
   "source": [
    "document_path = (r\"C:\\Users\\sambe\\Downloads\\Resume.pdf\")\n",
    "analyze(document_path)"
   ]
  },
  {
   "cell_type": "code",
   "execution_count": 225,
   "metadata": {},
   "outputs": [],
   "source": [
    "def top10(document_path):\n",
    "    document_path = (r\"C:\\Users\\sambe\\Projects\\Cover_Letter_Analysis\\data\\documents\\ResumeBrittanyMouzoon.pdf\")\n",
    "    text = document_to_text(document_path)\n",
    "#     print(\"Extracting text from document...\")\n",
    "    basic_documentdf = compile_document_text(text)\n",
    "#     print(\"Creating dataframe...\")\n",
    "    verbose_documentdf = text_to_bagofwords(basic_documentdf)\n",
    "#     print(\"Extracting key words from text...\")\n",
    "    recommend_df = join_and_condense(verbose_documentdf)\n",
    "#     print(\"Compiling data...\")\n",
    "    cosine_sim = vectorize_text(recommend_df)\n",
    "#     print(\"Calculating similarities...\")\n",
    "    recommended_jobs = recommend_100('resume', cosine_sim)\n",
    "#     print(\"Retrieving top recommendations...\")\n",
    "    recommendations = format_recommendations(recommended_jobs)\n",
    "    return recommendations"
   ]
  },
  {
   "cell_type": "code",
   "execution_count": null,
   "metadata": {},
   "outputs": [],
   "source": []
  }
 ],
 "metadata": {
  "kernelspec": {
   "display_name": "Python 3",
   "language": "python",
   "name": "python3"
  },
  "language_info": {
   "codemirror_mode": {
    "name": "ipython",
    "version": 3
   },
   "file_extension": ".py",
   "mimetype": "text/x-python",
   "name": "python",
   "nbconvert_exporter": "python",
   "pygments_lexer": "ipython3",
   "version": "3.7.6"
  }
 },
 "nbformat": 4,
 "nbformat_minor": 4
}
