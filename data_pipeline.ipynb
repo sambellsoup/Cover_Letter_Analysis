{
 "cells": [
  {
   "cell_type": "code",
   "execution_count": 291,
   "metadata": {},
   "outputs": [],
   "source": [
    "# library\n",
    "import matplotlib.pyplot as plt\n",
    "import pandas as pd\n",
    "from rake_nltk import Rake\n",
    "from tika import parser\n",
    "from sklearn.metrics.pairwise import cosine_similarity\n",
    "from sklearn.feature_extraction.text import CountVectorizer"
   ]
  },
  {
   "cell_type": "code",
   "execution_count": 292,
   "metadata": {},
   "outputs": [],
   "source": [
    "def document_to_text(document_path):\n",
    "    # document = request.FILES['document']\n",
    "    parsed = parser.from_file(document_path)\n",
    "    text = parsed['content']\n",
    "    if parsed['content'] == None:\n",
    "        print(\"The submitted document cannot be read.\")\n",
    "    try:\n",
    "        text = text.replace('\\n', '')\n",
    "    except:\n",
    "        pass\n",
    "    return text"
   ]
  },
  {
   "cell_type": "code",
   "execution_count": 327,
   "metadata": {},
   "outputs": [
    {
     "data": {
      "text/plain": [
       "\"Indeed ResumeAnassa MillerBronx, NY 10455anassamiller1119_yij@indeedemail.com7189248577Highly motivated office administrator with 24 years' experience in administration and 7 yearsin the healthcare environment. High degree of efficiency and expertise in project management,communication, team leadership, customer service, problem solving and maintaining a variety oftechnology systems. \\xa0• MS Office Applications, InfoEd, Rascal, ECRT and ARC/Endnote • Grant Management (Pre and Post) •Financial Administration- Accounts Management, Budgeting and Financial Reports.\\xa0• Office Management and Administration • I-Buy, AP Workflow • Domestic & International TravelCoordination • Talent Acquisition & Recruiting • Excellent verbal and written communication • DataEntry and Documentation • Strategic Planning and coordinating • Establishing priorities and delegatingtasks • Motivational leadership and supervisory skills • Interpersonal with a friendly demeanor • Greattime management skills • Self Motivated and Detail Oriented • Adaptive team player • Organized andpunctual • Hands-on and proactive\\xa0Core Qualifications\\xa0\\xa0#readytoworkWilling to relocate: AnywhereAuthorized to work in the US for any employerWork ExperienceGrant Writer/ConsultantSelf employeed - New York, NYJanuary 2017 to Present• Grant Research\\xa0• Budget Development\\xa0• Prospect Research\\xa0• Publication journals\\xa0• Grant WritingBudget AssistantNew York University, Rory Meyers College of Nursing - New York, NYMay 2018 to January 2019• Maintain complex financial and budgetary spreadsheets; record expenditures and/or paymentsensuring they are posted to proper accounts, apply calculations to data and tabulate. Identify, researchand correct questionable expenditures and discrepancies, referring more complex problems tosupervisor. Generate invoices and follow up on payment collection.\\xa0• Coordinate the preparation of budget reports. Compile data from various sources. Review reportsand proposals for accuracy and completeness.\\xa0• Draft preliminary financial sections of proposals as directed.\\xa0• Initiate and respond to various types of inquiries regarding financial policies, procedures, deadlines,etc., including those that may require additional research and investigation and requests forinformation.\\xa0• Establish financial records and files and ensure that records and files are maintained and updated onan ongoing basis.\\xa0• Provide support to staff on utilizing University financial systems and policies. May provide advice onanswering questions • Accounts ReceivablesAdministrative Research CoordinatorNew York University, Rory Meyers College of Nursing - New York, NYOctober 2016 to February 2017• Develop, coordinate, and maintain files and systems (electronic and hard copies) for multipleresearch studies • Process reimbursements, travel advances, etc. for investigators • Oversee orderingof supplies for field site(s) and investigators • Create and manage purchase orders, contracts, andrelated documents • Process invoices and track payments to vendors, consultants, etc.\\xa0• Coordinate IRB submissions • Assist with human subjects protection activities, including IRBreporting, maintaining records, and updating research protocols • Manage papers and publications• Manage references and prepare references lists for manuscripts • General research assistance •Conduct literature reviewsDivision Administrator I -PsychiatryColumbia University - New York, NYAugust 2014 to May 2016• Responsible for preparation of budgets, grant applications, progress reports, FSR's and subcontracts• Reconciliation of accounts and preparation of monthly financial statements • Assisted with annualbudget preparation and quarterly budget monitoring • Tracked due dates for all progress reportsand expiration dates of all protocols and awarded research • Assisted faculty with progress reportsand final reports; and initiated no-cost extension requests • Work closely with subcontractors toestablish a budget, ensure accurate and timely billing, and the renewal of subcontract agreements; •Assisted with the establishment of consulting agreements; • Responsible for preparing and enteringfinancial transactions for the cluster including preparation of purchase orders, receipt and processingof invoices, travel and business expense reports, consultant payments and processing • Collaboratedwith faculty, administrators, HR, Academic Affairs and Immigration affairs in collecting, organizingand submitting required paperwork for academic and professional appointments, credentialing,appointment renewals, and visa applications • Assisted with ongoing personnel effort tracking forannual faculty reviews, and as needed for grants and/or IRB protocol submissions. ( • Providedprojections of future funding available in project accounts under different spending scenariosAdministrative CoordinatorBellevue Hospital Center - New York, NYFebruary 2014 to August 2014• Accurately recorded and updated the legal status for psychiatry's inpatient's both manually andelectronically • Maintained up-to-date electronic databases containing new admission info for thePsychiatry Impatient Units • Provided backup to Legal Service court scheduler and reviewed theInpatient Psychiatry departmental data sheet for legal expiration dates • Communicated with theMD's/Attorneys to provide the patient court records • Provided assistance on special legal projects asrequested by supervisor/administrative leadership • Assisted with updating the electronic databasespertaining to Medication Over Objections • Offered clerical support within the Psychiatry Legal ServiceDepartment; performing various duties, including filing, answering telephones, faxing, printing, pagingetc.Laboratory CoordinatorGenzyme Genetics - New York, NYOctober 2008 to December 2012• Responsible for preparing laboratory specimens for designated departments prior to laboratoryanalysis • Responsible for the receipt and triage of human biological samples as well as specimendata entry • Accurately labeled samples and executed departmental quality assurance procedures• Received and triage tissue specimens, fluids and tissue slides; identified documents and resolvedissues associated with incorrect sample submission • Labeled all samples with assigned specimennumbers; contacted submitting clinician, clinical or medical practice to resolve issues associatedwith sample submission or patient registration • Submitted samples to gross room or other ancillarylaboratories for specimen processing • Unpacked specimens from branches or ports and routedspecimens by type to various staging areas • Prepared all specimens received for testing in designatedlab departments • Prepared excess specimen for storage and resolves and documented problemspecimensHR Benefits CoordinatorPfizer - New York, NYOctober 2007 to January 2012• Established and maintained open lines of communication between patients, physician, staff,and laboratory personnel to facilitate efficient service delivery • Scheduled patients' medicalscreenings and following up to obtain results • Maintained professional demeanor while respondingto priority issues to ensure the prompt referral of urgently needed medical care • Acquired insuranceauthorizations for procedures and tests ordered by attending physician • Assisted with schedulingsurgeries/procedures or work in conjunction with Surgical Coordinator verifying times with patients;Prepared charts, pre-admissions and consent forms as necessary • Assisted with the maintenance ofmedical chartsAdministratorNew York City Department of Education - New York, NYAugust 1998 to July 2007• Earned a promotion to Office Administrator with the supervision of a staff of 8 employees •Functioned daily as the Primary Liaison for NYCDOE and City Council • Efficiently managed inventoryas well as supervised and managed office-wide supply system • Processed and oversaw over 100+Senior Aide's records, as well as created and distributed purchase orders • Provided executive-leveladministrative support to the Vice President and twelve direct reports • Managed capital purchases,direct vendor relations, generate and maintain equipment tracking records • Processed monthlyexpense reports reflecting supporting documents and budget code indexes • Collaborated withdepartmental managers on weekly postings for master reportsEducationBA in Business AdministrationStrayer UniversityAugust 2017 to January 2020Skills• Quickbooks (6 years)• Microsoft Office (10+ years)• Grant Writing (3 years)• Accounts Receivable (4 years)• Budget Management (9 years)• Finance (10+ years)• Accounting (10+ years)• Project Management (5 years)• Salesforce (3 years)• Foundation Directory (3 years)• Microsoft Excel (10+ years)• Project Management (6 years)• Fundraising (2 years)• Grant Research (5 years)• Accounting (10+ years)• Microsoft Word• Microsoft Outlook\""
      ]
     },
     "execution_count": 327,
     "metadata": {},
     "output_type": "execute_result"
    }
   ],
   "source": [
    "document_path = (r\"C:\\Users\\sambe\\Projects\\Cover_Letter_Analysis\\data\\documents\\ResumeAnassaMiller.pdf\")\n",
    "resume_text = document_to_text(document_path)\n",
    "resume_text"
   ]
  },
  {
   "cell_type": "code",
   "execution_count": 293,
   "metadata": {},
   "outputs": [],
   "source": [
    "def compile_document_text(text):\n",
    "    job_descriptions = pd.read_csv('data/job_descriptions.csv', index_col=0)\n",
    "    \"\"\"Use this variable for production?\"\"\"\n",
    "    # resume = request.FILES['document']\n",
    "    \"\"\"Use this variable for development\"\"\"\n",
    "#     document_path = (r\"C:\\Users\\sambe\\Projects\\Cover_Letter_Analysis\\data\\documents\\ResumeBrittanyMouzoon.pdf\")\n",
    "#     text = document_to_text(document_path)\n",
    "    data = [['resume', text]]\n",
    "#     print(data)\n",
    "    basic_documentdf = pd.DataFrame(data, columns = ['title', 'description'])\n",
    "    return basic_documentdf"
   ]
  },
  {
   "cell_type": "code",
   "execution_count": 326,
   "metadata": {},
   "outputs": [
    {
     "data": {
      "text/html": [
       "<div>\n",
       "<style scoped>\n",
       "    .dataframe tbody tr th:only-of-type {\n",
       "        vertical-align: middle;\n",
       "    }\n",
       "\n",
       "    .dataframe tbody tr th {\n",
       "        vertical-align: top;\n",
       "    }\n",
       "\n",
       "    .dataframe thead th {\n",
       "        text-align: right;\n",
       "    }\n",
       "</style>\n",
       "<table border=\"1\" class=\"dataframe\">\n",
       "  <thead>\n",
       "    <tr style=\"text-align: right;\">\n",
       "      <th></th>\n",
       "      <th>title</th>\n",
       "      <th>description</th>\n",
       "    </tr>\n",
       "  </thead>\n",
       "  <tbody>\n",
       "    <tr>\n",
       "      <th>0</th>\n",
       "      <td>resume</td>\n",
       "      <td>Indeed ResumeAnassa MillerBronx, NY 10455anass...</td>\n",
       "    </tr>\n",
       "  </tbody>\n",
       "</table>\n",
       "</div>"
      ],
      "text/plain": [
       "    title                                        description\n",
       "0  resume  Indeed ResumeAnassa MillerBronx, NY 10455anass..."
      ]
     },
     "execution_count": 326,
     "metadata": {},
     "output_type": "execute_result"
    }
   ],
   "source": [
    "basic_documentdf = compile_document_text(resume_text)\n",
    "basic_documentdf"
   ]
  },
  {
   "cell_type": "code",
   "execution_count": 294,
   "metadata": {},
   "outputs": [],
   "source": [
    "def text_to_bagofwords(df):\n",
    "    # document_path = (r\"C:\\Users\\sambe\\Projects\\Cover_Letter_Analysis\\data\\documents\\ResumeBrittanyMouzoon.pdf\")\n",
    "#     text = document_to_text(document_path)\n",
    "#     basic_documentdf = compile_document_text(text)\n",
    "    basic_documentdf['rake_key_words'] = ''\n",
    "    r = Rake()\n",
    "    for index, row in basic_documentdf.iterrows():\n",
    "        r.extract_keywords_from_text(row['description'])\n",
    "        key_words_dict_scores = r.get_word_degrees()\n",
    "        row['rake_key_words'] = list(key_words_dict_scores.keys())\n",
    "    # Transform key words into bag of words\n",
    "    basic_documentdf['bag_of_words'] = ''\n",
    "    for index, row in basic_documentdf.iterrows():\n",
    "        words = ''\n",
    "        words += ' '.join(row['rake_key_words']) + ' '\n",
    "        row['bag_of_words'] = words\n",
    "    verbose_documentdf = basic_documentdf\n",
    "    return verbose_documentdf"
   ]
  },
  {
   "cell_type": "code",
   "execution_count": 325,
   "metadata": {},
   "outputs": [
    {
     "data": {
      "text/html": [
       "<div>\n",
       "<style scoped>\n",
       "    .dataframe tbody tr th:only-of-type {\n",
       "        vertical-align: middle;\n",
       "    }\n",
       "\n",
       "    .dataframe tbody tr th {\n",
       "        vertical-align: top;\n",
       "    }\n",
       "\n",
       "    .dataframe thead th {\n",
       "        text-align: right;\n",
       "    }\n",
       "</style>\n",
       "<table border=\"1\" class=\"dataframe\">\n",
       "  <thead>\n",
       "    <tr style=\"text-align: right;\">\n",
       "      <th></th>\n",
       "      <th>title</th>\n",
       "      <th>description</th>\n",
       "      <th>rake_key_words</th>\n",
       "      <th>bag_of_words</th>\n",
       "    </tr>\n",
       "  </thead>\n",
       "  <tbody>\n",
       "    <tr>\n",
       "      <th>0</th>\n",
       "      <td>resume</td>\n",
       "      <td>Indeed ResumeAnassa MillerBronx, NY 10455anass...</td>\n",
       "      <td>[inpatient, preparing, laboratory, specimens, ...</td>\n",
       "      <td>inpatient preparing laboratory specimens recei...</td>\n",
       "    </tr>\n",
       "  </tbody>\n",
       "</table>\n",
       "</div>"
      ],
      "text/plain": [
       "    title                                        description  \\\n",
       "0  resume  Indeed ResumeAnassa MillerBronx, NY 10455anass...   \n",
       "\n",
       "                                      rake_key_words  \\\n",
       "0  [inpatient, preparing, laboratory, specimens, ...   \n",
       "\n",
       "                                        bag_of_words  \n",
       "0  inpatient preparing laboratory specimens recei...  "
      ]
     },
     "execution_count": 325,
     "metadata": {},
     "output_type": "execute_result"
    }
   ],
   "source": [
    "verbose_documentdf = text_to_bagofwords(basic_documentdf)\n",
    "verbose_documentdf"
   ]
  },
  {
   "cell_type": "code",
   "execution_count": 295,
   "metadata": {},
   "outputs": [],
   "source": [
    "def join_and_condense(df):\n",
    "    # Slices\n",
    "    job_descriptions = pd.read_csv('data/job_descriptions.csv', index_col=0)\n",
    "    job_descriptions = job_descriptions.append(verbose_documentdf)\n",
    "    recommend_df = job_descriptions[['title', 'bag_of_words']]\n",
    "    return recommend_df"
   ]
  },
  {
   "cell_type": "code",
   "execution_count": 328,
   "metadata": {},
   "outputs": [
    {
     "data": {
      "text/html": [
       "<div>\n",
       "<style scoped>\n",
       "    .dataframe tbody tr th:only-of-type {\n",
       "        vertical-align: middle;\n",
       "    }\n",
       "\n",
       "    .dataframe tbody tr th {\n",
       "        vertical-align: top;\n",
       "    }\n",
       "\n",
       "    .dataframe thead th {\n",
       "        text-align: right;\n",
       "    }\n",
       "</style>\n",
       "<table border=\"1\" class=\"dataframe\">\n",
       "  <thead>\n",
       "    <tr style=\"text-align: right;\">\n",
       "      <th></th>\n",
       "      <th>title</th>\n",
       "      <th>bag_of_words</th>\n",
       "    </tr>\n",
       "  </thead>\n",
       "  <tbody>\n",
       "    <tr>\n",
       "      <th>0</th>\n",
       "      <td>training_manager</td>\n",
       "      <td>provide limited express interest additional tr...</td>\n",
       "    </tr>\n",
       "    <tr>\n",
       "      <th>1</th>\n",
       "      <td>training_manager</td>\n",
       "      <td>workshops including schedules integrity respon...</td>\n",
       "    </tr>\n",
       "    <tr>\n",
       "      <th>2</th>\n",
       "      <td>training_manager</td>\n",
       "      <td>oversee translate diverse audience advanced kn...</td>\n",
       "    </tr>\n",
       "    <tr>\n",
       "      <th>3</th>\n",
       "      <td>training_manager</td>\n",
       "      <td>public speaking • enjoy getting previous exper...</td>\n",
       "    </tr>\n",
       "    <tr>\n",
       "      <th>4</th>\n",
       "      <td>training_manager</td>\n",
       "      <td>luxury business pr teams powerpoint paced envi...</td>\n",
       "    </tr>\n",
       "    <tr>\n",
       "      <th>...</th>\n",
       "      <td>...</td>\n",
       "      <td>...</td>\n",
       "    </tr>\n",
       "    <tr>\n",
       "      <th>261</th>\n",
       "      <td>youth services aide</td>\n",
       "      <td>time position placed may apply directly locate...</td>\n",
       "    </tr>\n",
       "    <tr>\n",
       "      <th>262</th>\n",
       "      <td>nutritionist associate</td>\n",
       "      <td>time position local health agency professional...</td>\n",
       "    </tr>\n",
       "    <tr>\n",
       "      <th>263</th>\n",
       "      <td>Licensed Real Estate SalesAgent</td>\n",
       "      <td>integrity career online commission region pers...</td>\n",
       "    </tr>\n",
       "    <tr>\n",
       "      <th>264</th>\n",
       "      <td>Sterile Supply Tech</td>\n",
       "      <td>ged required sterilize instrument sets surgery...</td>\n",
       "    </tr>\n",
       "    <tr>\n",
       "      <th>0</th>\n",
       "      <td>resume</td>\n",
       "      <td>inpatient preparing laboratory specimens recei...</td>\n",
       "    </tr>\n",
       "  </tbody>\n",
       "</table>\n",
       "<p>266 rows × 2 columns</p>\n",
       "</div>"
      ],
      "text/plain": [
       "                               title  \\\n",
       "0                   training_manager   \n",
       "1                   training_manager   \n",
       "2                   training_manager   \n",
       "3                   training_manager   \n",
       "4                   training_manager   \n",
       "..                               ...   \n",
       "261              youth services aide   \n",
       "262           nutritionist associate   \n",
       "263  Licensed Real Estate SalesAgent   \n",
       "264              Sterile Supply Tech   \n",
       "0                             resume   \n",
       "\n",
       "                                          bag_of_words  \n",
       "0    provide limited express interest additional tr...  \n",
       "1    workshops including schedules integrity respon...  \n",
       "2    oversee translate diverse audience advanced kn...  \n",
       "3    public speaking • enjoy getting previous exper...  \n",
       "4    luxury business pr teams powerpoint paced envi...  \n",
       "..                                                 ...  \n",
       "261  time position placed may apply directly locate...  \n",
       "262  time position local health agency professional...  \n",
       "263  integrity career online commission region pers...  \n",
       "264  ged required sterilize instrument sets surgery...  \n",
       "0    inpatient preparing laboratory specimens recei...  \n",
       "\n",
       "[266 rows x 2 columns]"
      ]
     },
     "execution_count": 328,
     "metadata": {},
     "output_type": "execute_result"
    }
   ],
   "source": [
    "recommend_df = join_and_condense(verbose_documentdf)\n",
    "recommend_df"
   ]
  },
  {
   "cell_type": "code",
   "execution_count": 296,
   "metadata": {
    "collapsed": true
   },
   "outputs": [],
   "source": [
    "def vectorize_text(df):\n",
    "    count = CountVectorizer()\n",
    "#     recommend_df = join_and_condense()\n",
    "    count_matrix = count.fit_transform(recommend_df['bag_of_words'])\n",
    "    cosine_sim = cosine_similarity(count_matrix, count_matrix)\n",
    "    return cosine_sim"
   ]
  },
  {
   "cell_type": "code",
   "execution_count": 329,
   "metadata": {},
   "outputs": [
    {
     "data": {
      "text/plain": [
       "array([[1.        , 0.22157509, 0.17786577, ..., 0.19034722, 0.06270894,\n",
       "        0.17370286],\n",
       "       [0.22157509, 1.        , 0.24679284, ..., 0.15757982, 0.04144738,\n",
       "        0.15143217],\n",
       "       [0.17786577, 0.24679284, 1.        , ..., 0.16044067, 0.03114751,\n",
       "        0.14472464],\n",
       "       ...,\n",
       "       [0.19034722, 0.15757982, 0.16044067, ..., 1.        , 0.05934326,\n",
       "        0.10463757],\n",
       "       [0.06270894, 0.04144738, 0.03114751, ..., 0.05934326, 1.        ,\n",
       "        0.06917758],\n",
       "       [0.17370286, 0.15143217, 0.14472464, ..., 0.10463757, 0.06917758,\n",
       "        1.        ]])"
      ]
     },
     "execution_count": 329,
     "metadata": {},
     "output_type": "execute_result"
    }
   ],
   "source": [
    "cosine_sim = vectorize_text(recommend_df)\n",
    "cosine_sim"
   ]
  },
  {
   "cell_type": "code",
   "execution_count": 336,
   "metadata": {},
   "outputs": [],
   "source": [
    "def recommend_100(df, matrix):\n",
    "    # document_path = (r\"C:\\Users\\sambe\\Projects\\Cover_Letter_Analysis\\data\\documents\\ResumeBrittanyMouzoon.pdf\")\n",
    "    recommended_jobs = []\n",
    "    indices = pd.Series(recommend_df['title'])\n",
    "    idx = indices[indices == 'resume'].index[0]\n",
    "    score_series = pd.Series(cosine_sim[idx]).sort_values(ascending = False)\n",
    "    top_10_indices = list(score_series.iloc[1:101].index)\n",
    "\n",
    "    for i in top_10_indices:\n",
    "        recommended_jobs.append(list(recommend_df['title'])[i])\n",
    "\n",
    "    return recommended_jobs"
   ]
  },
  {
   "cell_type": "code",
   "execution_count": 338,
   "metadata": {},
   "outputs": [
    {
     "data": {
      "text/plain": [
       "['account_manager',\n",
       " 'training_manager',\n",
       " 'hr_manager',\n",
       " 'Manufacturing Supervisor',\n",
       " 'Protective Services Manager',\n",
       " 'Admissions Coordinator',\n",
       " 'fraud specialist',\n",
       " 'budget_analyst',\n",
       " 'Proposal Manager',\n",
       " 'Program Coordinator',\n",
       " 'budget_analyst',\n",
       " 'Executive Director',\n",
       " 'Director of Medical Specialty Clinics',\n",
       " 'Security Officer',\n",
       " 'document management analyst',\n",
       " 'Medical Science Liaison',\n",
       " 'manufacturing planner',\n",
       " 'hr_manager',\n",
       " 'Health Program Manager',\n",
       " 'paralegal',\n",
       " 'budget_analyst',\n",
       " 'training_manager',\n",
       " 'Field Service Representative',\n",
       " 'hr_manager',\n",
       " 'hr_manager',\n",
       " 'Area Manager',\n",
       " 'budget_analyst',\n",
       " 'hr_manager',\n",
       " 'dietary aide',\n",
       " 'sr dietary aide',\n",
       " 'fraud investigator',\n",
       " 'accounts_payable_specialist',\n",
       " 'hr_manager',\n",
       " 'cashier',\n",
       " 'hr_manager',\n",
       " 'Area Manager',\n",
       " 'Mental Health Worker',\n",
       " 'Sales and Service Rep',\n",
       " 'account_manager',\n",
       " 'Safety Consultant',\n",
       " 'hr_manager',\n",
       " 'Missile assembly / test engineer associate',\n",
       " 'plant operator',\n",
       " 'Director, Alabama Math, Science and Technology Initiative',\n",
       " 'actuary_analyst',\n",
       " 'training_manager',\n",
       " 'training_manager',\n",
       " 'Customer Service Representative',\n",
       " 'assembler / aidt',\n",
       " 'actuary_analyst',\n",
       " 'Associate Risk Officer',\n",
       " 'Buyer / Purchaser',\n",
       " 'budget_analyst',\n",
       " 'Customer Service Support',\n",
       " 'Property Manager',\n",
       " 'lead software engineer',\n",
       " 'Administrative Officer',\n",
       " 'legal secretary',\n",
       " 'budget_analyst',\n",
       " 'Controls, Modeling, and Simulation Engineer',\n",
       " 'hr_manager',\n",
       " 'Vessel Master',\n",
       " 'Military Intelligence',\n",
       " 'accounting_clerk',\n",
       " 'hr_manager',\n",
       " 'Care Giver / HHA / CNA',\n",
       " 'accounts_payable_specialist',\n",
       " 'accounts_payable_specialist',\n",
       " 'In Home Sales Expert',\n",
       " 'Senior Financial Analyst',\n",
       " 'accounts_payable_specialist',\n",
       " 'Medical Receptionist',\n",
       " 'accounting_clerk',\n",
       " 'sales_rep',\n",
       " 'accounting_clerk',\n",
       " 'Sales Specialist',\n",
       " 'PAC-3 Systems Engineer - Reliability',\n",
       " 'Territory Sales Representative',\n",
       " 'Records Manager',\n",
       " 'integrated test engineer',\n",
       " 'coordinator of compliance and risk management',\n",
       " 'actuary_analyst',\n",
       " 'sales_rep',\n",
       " 'Night Stocker',\n",
       " 'Customer Practice Manager',\n",
       " 'Director of Nursing',\n",
       " 'account_manager',\n",
       " 'specialist - general assembly',\n",
       " 'paralegal specialist',\n",
       " 'Licensed Real Estate SalesAgent',\n",
       " 'Pat Reg Representative ED',\n",
       " 'sales_rep',\n",
       " 'training_manager',\n",
       " 'account_manager',\n",
       " 'assembler',\n",
       " 'motion_graphics_designer',\n",
       " 'Electric T&D System Manager',\n",
       " 'Data Analyst',\n",
       " 'data analyst',\n",
       " 'Account Executive']"
      ]
     },
     "execution_count": 338,
     "metadata": {},
     "output_type": "execute_result"
    }
   ],
   "source": [
    "recommended_jobs = recommend_100(recommend_df, cosine_sim)\n",
    "recommend_100(recommend_df, cosine_sim)"
   ]
  },
  {
   "cell_type": "code",
   "execution_count": 298,
   "metadata": {},
   "outputs": [],
   "source": [
    "def format_recommendations(recommendations):\n",
    "#     jobs100 = recommend_100('resume')\n",
    "    jobs10 = []\n",
    "    for job in recommended_jobs:\n",
    "        job = job.lower().replace(\"_\", \" \").title()\n",
    "        job = job.replace('Hr Manager', 'HR Manager')\n",
    "        jobs10.append(job)\n",
    "    jobs10 = set(jobs10[0:20])\n",
    "    jobs10 = list(jobs10)\n",
    "    final_jobs10 = jobs10[0:10]\n",
    "    for i, item in enumerate(final_jobs10,1):\n",
    "        print(i, '. ' + item + '\\n', sep='',end='')\n",
    "#     print(final_jobs10)    \n",
    "    return final_jobs10"
   ]
  },
  {
   "cell_type": "code",
   "execution_count": 339,
   "metadata": {},
   "outputs": [
    {
     "name": "stdout",
     "output_type": "stream",
     "text": [
      "1. HR Manager\n",
      "2. Health Program Manager\n",
      "3. Paralegal\n",
      "4. Fraud Specialist\n",
      "5. Account Manager\n",
      "6. Proposal Manager\n",
      "7. Manufacturing Planner\n",
      "8. Executive Director\n",
      "9. Security Officer\n",
      "10. Manufacturing Supervisor\n"
     ]
    },
    {
     "data": {
      "text/plain": [
       "['HR Manager',\n",
       " 'Health Program Manager',\n",
       " 'Paralegal',\n",
       " 'Fraud Specialist',\n",
       " 'Account Manager',\n",
       " 'Proposal Manager',\n",
       " 'Manufacturing Planner',\n",
       " 'Executive Director',\n",
       " 'Security Officer',\n",
       " 'Manufacturing Supervisor']"
      ]
     },
     "execution_count": 339,
     "metadata": {},
     "output_type": "execute_result"
    }
   ],
   "source": [
    "final_jobs10 = format_recommendations(recommended_jobs)\n",
    "final_jobs10"
   ]
  },
  {
   "cell_type": "code",
   "execution_count": 299,
   "metadata": {},
   "outputs": [],
   "source": [
    "def top_100_categories(recommendations):\n",
    "    df = pd.read_csv('data/job_descriptions.csv', index_col=0)\n",
    "#     jobs100 = recommend_100('resume')\n",
    "    user_titles = df[df.title.isin(recommended_jobs)]\n",
    "    user_titles = user_titles[['title', 'category']]\n",
    "    user_titles.drop_duplicates(subset=\"title\", keep=\"last\")\n",
    "    category_list = list(user_titles.category)\n",
    "    return category_list"
   ]
  },
  {
   "cell_type": "code",
   "execution_count": 344,
   "metadata": {},
   "outputs": [
    {
     "data": {
      "text/plain": [
       "['management',\n",
       " 'management',\n",
       " 'management',\n",
       " 'management',\n",
       " 'management',\n",
       " 'management',\n",
       " 'management',\n",
       " 'management',\n",
       " 'management',\n",
       " 'management',\n",
       " 'management',\n",
       " 'management',\n",
       " 'management',\n",
       " 'management',\n",
       " 'management',\n",
       " 'management',\n",
       " 'management',\n",
       " 'management',\n",
       " 'management',\n",
       " 'management',\n",
       " 'customer service',\n",
       " 'customer service',\n",
       " 'customer service',\n",
       " 'customer service',\n",
       " 'customer service',\n",
       " 'customer service',\n",
       " 'customer service',\n",
       " 'customer service',\n",
       " 'customer service',\n",
       " 'customer service',\n",
       " 'management',\n",
       " 'management',\n",
       " 'management',\n",
       " 'management',\n",
       " 'management',\n",
       " 'management',\n",
       " 'management',\n",
       " 'management',\n",
       " 'management',\n",
       " 'management',\n",
       " 'sales & retail',\n",
       " 'sales & retail',\n",
       " 'sales & retail',\n",
       " 'sales & retail',\n",
       " 'sales & retail',\n",
       " 'sales & retail',\n",
       " 'sales & retail',\n",
       " 'sales & retail',\n",
       " 'sales & retail',\n",
       " 'sales & retail',\n",
       " 'art, fashion & design',\n",
       " 'art, fashion & design',\n",
       " 'art, fashion & design',\n",
       " 'art, fashion & design',\n",
       " 'art, fashion & design',\n",
       " 'art, fashion & design',\n",
       " 'art, fashion & design',\n",
       " 'art, fashion & design',\n",
       " 'art, fashion & design',\n",
       " 'art, fashion & design',\n",
       " 'accounting & finance',\n",
       " 'accounting & finance',\n",
       " 'accounting & finance',\n",
       " 'accounting & finance',\n",
       " 'accounting & finance',\n",
       " 'accounting & finance',\n",
       " 'accounting & finance',\n",
       " 'accounting & finance',\n",
       " 'accounting & finance',\n",
       " 'accounting & finance',\n",
       " 'accounting & finance',\n",
       " 'accounting & finance',\n",
       " 'accounting & finance',\n",
       " 'accounting & finance',\n",
       " 'accounting & finance',\n",
       " 'accounting & finance',\n",
       " 'accounting & finance',\n",
       " 'accounting & finance',\n",
       " 'accounting & finance',\n",
       " 'accounting & finance',\n",
       " 'accounting & finance',\n",
       " 'accounting & finance',\n",
       " 'accounting & finance',\n",
       " 'accounting & finance',\n",
       " 'accounting & finance',\n",
       " 'accounting & finance',\n",
       " 'accounting & finance',\n",
       " 'accounting & finance',\n",
       " 'accounting & finance',\n",
       " 'accounting & finance',\n",
       " 'accounting & finance',\n",
       " 'accounting & finance',\n",
       " 'accounting & finance',\n",
       " 'accounting & finance',\n",
       " 'accounting & finance',\n",
       " 'accounting & finance',\n",
       " 'accounting & finance',\n",
       " 'accounting & finance',\n",
       " 'accounting & finance',\n",
       " 'accounting & finance',\n",
       " 'healthcare',\n",
       " 'healthcare',\n",
       " 'management',\n",
       " 'management',\n",
       " 'management',\n",
       " 'management',\n",
       " 'management',\n",
       " 'management',\n",
       " 'management',\n",
       " 'management',\n",
       " 'management',\n",
       " 'management',\n",
       " 'management',\n",
       " 'management',\n",
       " 'management',\n",
       " 'education',\n",
       " 'social services & nonprofit',\n",
       " 'social services & nonprofit',\n",
       " 'sales & retail',\n",
       " 'sales & retail',\n",
       " 'sales & retail',\n",
       " 'sales & retail',\n",
       " 'sales & retail',\n",
       " 'sales & retail',\n",
       " 'sales & retail',\n",
       " 'sales & retail',\n",
       " 'protective services',\n",
       " 'protective services',\n",
       " 'protective services',\n",
       " 'science & engineering',\n",
       " 'science & engineering',\n",
       " 'accounting & finance',\n",
       " 'accounting & finance',\n",
       " 'admin & office',\n",
       " 'admin & office',\n",
       " 'transportation & logistics',\n",
       " 'computer & it',\n",
       " 'computer & it',\n",
       " 'computer & it',\n",
       " 'computer & it',\n",
       " 'computer & it',\n",
       " 'customer service',\n",
       " 'customer service',\n",
       " 'customer service',\n",
       " 'customer service',\n",
       " 'customer service',\n",
       " 'legal',\n",
       " 'legal',\n",
       " 'legal',\n",
       " 'legal',\n",
       " 'legal',\n",
       " 'legal',\n",
       " 'legal',\n",
       " 'manufacturing & warehouse',\n",
       " 'manufacturing & warehouse',\n",
       " 'manufacturing & warehouse',\n",
       " 'manufacturing & warehouse',\n",
       " 'manufacturing & warehouse',\n",
       " 'sports, fitness, & recreation',\n",
       " 'sports, fitness, & recreation',\n",
       " 'real estate']"
      ]
     },
     "execution_count": 344,
     "metadata": {},
     "output_type": "execute_result"
    }
   ],
   "source": [
    "category_list = top_100_categories(recommended_jobs)\n",
    "category_list"
   ]
  },
  {
   "cell_type": "code",
   "execution_count": 342,
   "metadata": {},
   "outputs": [],
   "source": [
    "def freq(list_of_categories):\n",
    "    frequency = []\n",
    "    # document_path = (r\"C:\\Users\\sambe\\Projects\\Cover_Letter_Analysis\\data\\documents\\ResumeBrittanyMouzoon.pdf\")\n",
    "#     text = document_to_text(document_path)\n",
    "#     basic_documentdf = compile_document_text(text)\n",
    "#     verbose_documentdf = text_to_bagofwords(basic_documentdf)\n",
    "#     recommend_df = join_and_condense(verbose_documentdf)\n",
    "#     cosine = vectorize_text(recommend_df)\n",
    "#     title = 'resume'\n",
    "#     recommended_jobs = recommend_100(document_path, title, cosine)\n",
    "#     categories = top_100_categories(recommended_jobs)\n",
    "    # gives set of unique words\n",
    "    unique_words = set(category_list)\n",
    "    for words in unique_words :\n",
    "        frequency.append(category_list.count(words))\n",
    "    return frequency"
   ]
  },
  {
   "cell_type": "code",
   "execution_count": 343,
   "metadata": {},
   "outputs": [
    {
     "data": {
      "text/plain": [
       "[10, 7, 15, 2, 1, 2, 43, 3, 1, 2, 5, 2, 2, 42, 1, 18, 5]"
      ]
     },
     "execution_count": 343,
     "metadata": {},
     "output_type": "execute_result"
    }
   ],
   "source": [
    "frequency = freq(category_list)\n",
    "frequency"
   ]
  },
  {
   "cell_type": "code",
   "execution_count": 345,
   "metadata": {},
   "outputs": [],
   "source": [
    "def viz_data(list_of_categories, frequency_of_categories):\n",
    "#     categories = top_100_categories()\n",
    "#     frequency = freq(categories)\n",
    "    unique_words = set(category_list)\n",
    "    unique_words = list(unique_words)\n",
    "    category_values = dict(zip(unique_words, frequency))\n",
    "    category_dict = {key:val for key, val in category_values.items() if val >= 10}\n",
    "    # create data\n",
    "    names=category_dict.keys()\n",
    "    size=category_dict.values()\n",
    "    return names, size"
   ]
  },
  {
   "cell_type": "code",
   "execution_count": 347,
   "metadata": {},
   "outputs": [
    {
     "data": {
      "text/plain": [
       "(dict_keys(['art, fashion & design', 'customer service', 'management', 'accounting & finance', 'sales & retail']),\n",
       " dict_values([10, 15, 43, 42, 18]))"
      ]
     },
     "execution_count": 347,
     "metadata": {},
     "output_type": "execute_result"
    }
   ],
   "source": [
    "names, size = viz_data(category_list, frequency)\n",
    "names, size"
   ]
  },
  {
   "cell_type": "code",
   "execution_count": 348,
   "metadata": {},
   "outputs": [],
   "source": [
    "def make_viz(names_of_categories, size_of_categories):\n",
    "#     categories = top_100_categories()\n",
    "#     freq(categories)\n",
    "#     names, size = viz_data()\n",
    "# Create a circle for the center of the plot\n",
    "    my_circle=plt.Circle( (0,0), 0.7, color='white')\n",
    "# Give color names\n",
    "    plt.title('Strength Summary')\n",
    "    plt.pie(size, labels=names)\n",
    "    p=plt.gcf()\n",
    "    p.gca().add_artist(my_circle)\n",
    "    plt.show()"
   ]
  },
  {
   "cell_type": "code",
   "execution_count": 349,
   "metadata": {},
   "outputs": [
    {
     "data": {
      "image/png": "[encoded data removed]",
      "text/plain": [
       "<Figure size 432x288 with 1 Axes>"
      ]
     },
     "metadata": {},
     "output_type": "display_data"
    }
   ],
   "source": [
    "figure = make_viz(names, size)\n",
    "figure"
   ]
  },
  {
   "cell_type": "code",
   "execution_count": 303,
   "metadata": {},
   "outputs": [],
   "source": [
    "def analyze(document_path):\n",
    "#     document_path = (r\"C:\\Users\\sambe\\Projects\\Cover_Letter_Analysis\\data\\documents\\ResumeBrittanyMouzoon.pdf\")\n",
    "    text = document_to_text(document_path)\n",
    "#     print(text)\n",
    "#     print(\"Extracting text from document...\")\n",
    "    basic_documentdf = compile_document_text(text)\n",
    "#     print(basic_documentdf)\n",
    "#     print(\"Creating dataframe...\")\n",
    "    verbose_documentdf = text_to_bagofwords(basic_documentdf)\n",
    "#     print(verbose_documentdf)\n",
    "#     print(\"Extracting key words from text...\")\n",
    "    recommend_df = join_and_condense(verbose_documentdf)\n",
    "#     print(recommend_df)\n",
    "#     print(\"Compiling data...\")\n",
    "    cosine_sim = vectorize_text(recommend_df)\n",
    "#     print(cosine_sim)\n",
    "#     print(\"Calculating similarities...\")\n",
    "    recommended_jobs = recommend_100('resume', cosine_sim)\n",
    "#     print(recommended_jobs)\n",
    "#     print(\"Retrieving top recommendations...\")\n",
    "    top10 = format_recommendations(recommended_jobs)\n",
    "#     print(\"Formatting top recommendations...\")\n",
    "    category_list = top_100_categories(recommended_jobs)\n",
    "#     print(\"Retrieving relevant job categories...\")\n",
    "    frequency = freq(recommended_jobs, category_list)\n",
    "#     print(\"Calculating the most common job categories...\")\n",
    "    names, size = viz_data(category_list, frequency)\n",
    "#     print(\"Compiling data...\")\n",
    "    strength_summary = make_viz(names, size)"
   ]
  },
  {
   "cell_type": "code",
   "execution_count": 304,
   "metadata": {},
   "outputs": [],
   "source": [
    "def final_rec(document_path):\n",
    "    # document_path = (r\"C:\\Users\\sambe\\Projects\\Cover_Letter_Analysis\\data\\documents\\ResumeBrittanyMouzoon.pdf\")\n",
    "    text = document_to_text(document_path)\n",
    "    basic_documentdf = compile_document_text(text)\n",
    "    verbose_documentdf = text_to_bagofwords(basic_documentdf)\n",
    "    recommend_df = join_and_condense(verbose_documentdf)\n",
    "    cosine_sim = vectorize_text(recommend_df)\n",
    "    recommended_jobs = recommend_100(document_path, 'resume', cosine_sim)\n",
    "    recommendations = format_recommendations(recommended_jobs)\n",
    "    return recommendations"
   ]
  },
  {
   "cell_type": "code",
   "execution_count": 305,
   "metadata": {},
   "outputs": [
    {
     "name": "stdout",
     "output_type": "stream",
     "text": [
      "1. HR Manager\n",
      "2. Health Program Manager\n",
      "3. Paralegal\n",
      "4. Fraud Specialist\n",
      "5. Account Manager\n",
      "6. Proposal Manager\n",
      "7. Manufacturing Planner\n",
      "8. Executive Director\n",
      "9. Security Officer\n",
      "10. Manufacturing Supervisor\n"
     ]
    },
    {
     "data": {
      "image/png": "[encoded data removed]",
      "text/plain": [
       "<Figure size 432x288 with 1 Axes>"
      ]
     },
     "metadata": {},
     "output_type": "display_data"
    }
   ],
   "source": [
    "document_path = (r\"C:\\Users\\sambe\\Projects\\Cover_Letter_Analysis\\data\\documents\\ResumeAnassaMiller.pdf\")\n",
    "analyze(document_path)"
   ]
  },
  {
   "cell_type": "code",
   "execution_count": 306,
   "metadata": {},
   "outputs": [
    {
     "name": "stdout",
     "output_type": "stream",
     "text": [
      "1. HR Manager\n",
      "2. Health Program Manager\n",
      "3. Paralegal\n",
      "4. Fraud Specialist\n",
      "5. Account Manager\n",
      "6. Proposal Manager\n",
      "7. Manufacturing Planner\n",
      "8. Executive Director\n",
      "9. Security Officer\n",
      "10. Manufacturing Supervisor\n"
     ]
    },
    {
     "data": {
      "image/png": "[encoded data removed]",
      "text/plain": [
       "<Figure size 432x288 with 1 Axes>"
      ]
     },
     "metadata": {},
     "output_type": "display_data"
    }
   ],
   "source": [
    "document_path = (r\"C:\\Users\\sambe\\Projects\\Cover_Letter_Analysis\\data\\documents\\ResumeAhmadPirzada.pdf\")\n",
    "analyze(document_path)"
   ]
  },
  {
   "cell_type": "code",
   "execution_count": 307,
   "metadata": {},
   "outputs": [
    {
     "name": "stdout",
     "output_type": "stream",
     "text": [
      "1. HR Manager\n",
      "2. Health Program Manager\n",
      "3. Paralegal\n",
      "4. Fraud Specialist\n",
      "5. Account Manager\n",
      "6. Proposal Manager\n",
      "7. Manufacturing Planner\n",
      "8. Executive Director\n",
      "9. Security Officer\n",
      "10. Manufacturing Supervisor\n"
     ]
    },
    {
     "data": {
      "image/png": "[encoded data removed]",
      "text/plain": [
       "<Figure size 432x288 with 1 Axes>"
      ]
     },
     "metadata": {},
     "output_type": "display_data"
    }
   ],
   "source": [
    "document_path = (r\"C:\\Users\\sambe\\Projects\\Cover_Letter_Analysis\\data\\documents\\ResumeAteliaDeaza.pdf\")\n",
    "analyze(document_path)"
   ]
  },
  {
   "cell_type": "code",
   "execution_count": 309,
   "metadata": {},
   "outputs": [
    {
     "name": "stdout",
     "output_type": "stream",
     "text": [
      "1. HR Manager\n",
      "2. Health Program Manager\n",
      "3. Paralegal\n",
      "4. Fraud Specialist\n",
      "5. Account Manager\n",
      "6. Proposal Manager\n",
      "7. Manufacturing Planner\n",
      "8. Executive Director\n",
      "9. Security Officer\n",
      "10. Manufacturing Supervisor\n"
     ]
    },
    {
     "data": {
      "image/png": "[encoded data removed]",
      "text/plain": [
       "<Figure size 432x288 with 1 Axes>"
      ]
     },
     "metadata": {},
     "output_type": "display_data"
    }
   ],
   "source": [
    "document_path = (r\"C:\\Users\\sambe\\Downloads\\Resume.pdf\")\n",
    "analyze(document_path)"
   ]
  },
  {
   "cell_type": "code",
   "execution_count": 225,
   "metadata": {},
   "outputs": [],
   "source": [
    "def top10(document_path):\n",
    "    document_path = (r\"C:\\Users\\sambe\\Projects\\Cover_Letter_Analysis\\data\\documents\\ResumeBrittanyMouzoon.pdf\")\n",
    "    text = document_to_text(document_path)\n",
    "#     print(\"Extracting text from document...\")\n",
    "    basic_documentdf = compile_document_text(text)\n",
    "#     print(\"Creating dataframe...\")\n",
    "    verbose_documentdf = text_to_bagofwords(basic_documentdf)\n",
    "#     print(\"Extracting key words from text...\")\n",
    "    recommend_df = join_and_condense(verbose_documentdf)\n",
    "#     print(\"Compiling data...\")\n",
    "    cosine_sim = vectorize_text(recommend_df)\n",
    "#     print(\"Calculating similarities...\")\n",
    "    recommended_jobs = recommend_100('resume', cosine_sim)\n",
    "#     print(\"Retrieving top recommendations...\")\n",
    "    recommendations = format_recommendations(recommended_jobs)\n",
    "    return recommendations"
   ]
  },
  {
   "cell_type": "code",
   "execution_count": null,
   "metadata": {},
   "outputs": [],
   "source": []
  }
 ],
 "metadata": {
  "kernelspec": {
   "display_name": "Python 3",
   "language": "python",
   "name": "python3"
  },
  "language_info": {
   "codemirror_mode": {
    "name": "ipython",
    "version": 3
   },
   "file_extension": ".py",
   "mimetype": "text/x-python",
   "name": "python",
   "nbconvert_exporter": "python",
   "pygments_lexer": "ipython3",
   "version": "3.7.6"
  }
 },
 "nbformat": 4,
 "nbformat_minor": 4
}
