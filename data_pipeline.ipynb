{
 "cells": [
  {
   "cell_type": "code",
   "execution_count": 231,
   "metadata": {},
   "outputs": [],
   "source": [
    "# library\n",
    "import matplotlib.pyplot as plt\n",
    "import pandas as pd\n",
    "from rake_nltk import Rake\n",
    "from tika import parser\n",
    "from sklearn.metrics.pairwise import cosine_similarity\n",
    "from sklearn.feature_extraction.text import CountVectorizer"
   ]
  },
  {
   "cell_type": "code",
   "execution_count": 232,
   "metadata": {},
   "outputs": [],
   "source": [
    "def document_to_text(document_path):\n",
    "    parsed = parser.from_file(document_path)\n",
    "    text = parsed['content']\n",
    "    if parsed['content'] == None:\n",
    "        print(\"The submitted document cannot be read.\")\n",
    "    try:\n",
    "        text = text.replace('\\n', '')\n",
    "    except:\n",
    "        pass\n",
    "    return text"
   ]
  },
  {
   "cell_type": "code",
   "execution_count": 233,
   "metadata": {},
   "outputs": [],
   "source": [
    "def compile_document_text(text):\n",
    "    job_descriptions = pd.read_csv('data/job_descriptions.csv', index_col=0)\n",
    "    data = [['resume', text]]\n",
    "    basic_documentdf = pd.DataFrame(data, columns = ['title', 'description'])\n",
    "    return basic_documentdf"
   ]
  },
  {
   "cell_type": "code",
   "execution_count": 234,
   "metadata": {},
   "outputs": [],
   "source": [
    "def text_to_bagofwords(df):\n",
    "    df['rake_key_words'] = ''\n",
    "    r = Rake()\n",
    "    for index, row in df.iterrows():\n",
    "        r.extract_keywords_from_text(row['description'])\n",
    "        key_words_dict_scores = r.get_word_degrees()\n",
    "        row['rake_key_words'] = list(key_words_dict_scores.keys())\n",
    "# Transform key words into bag of words\n",
    "    df['bag_of_words'] = ''\n",
    "    for index, row in df.iterrows():\n",
    "        words = ''\n",
    "        words += ' '.join(row['rake_key_words']) + ' '\n",
    "        row['bag_of_words'] = words\n",
    "    verbose_documentdf = df\n",
    "    return verbose_documentdf"
   ]
  },
  {
   "cell_type": "code",
   "execution_count": 235,
   "metadata": {},
   "outputs": [],
   "source": [
    "def join_and_condense(df):\n",
    "    job_descriptions = pd.read_csv('data/job_descriptions.csv', index_col=0)\n",
    "    job_descriptions = job_descriptions.append(df)\n",
    "    recommend_df = job_descriptions[['title', 'bag_of_words']]\n",
    "    recommend_df = recommend_df.reset_index(drop=True)\n",
    "    return recommend_df"
   ]
  },
  {
   "cell_type": "code",
   "execution_count": 236,
   "metadata": {},
   "outputs": [],
   "source": [
    "def vectorize_text(df):\n",
    "    count = CountVectorizer()\n",
    "    count_matrix = count.fit_transform(df['bag_of_words'])\n",
    "    cosine_sim = cosine_similarity(count_matrix, count_matrix)\n",
    "    return cosine_sim"
   ]
  },
  {
   "cell_type": "code",
   "execution_count": 237,
   "metadata": {},
   "outputs": [],
   "source": [
    "def recommend_100(df, matrix):\n",
    "    recommended_jobs = []\n",
    "    indices = pd.Series(df['title'])\n",
    "    idx = indices[indices == 'resume'].index[0]\n",
    "    score_series = pd.Series(matrix[idx]).sort_values(ascending = False)\n",
    "    top_100_indices = list(score_series.iloc[1:101].index)\n",
    "\n",
    "    for i in top_100_indices:\n",
    "        recommended_jobs.append(list(df['title'])[i])\n",
    "\n",
    "    return recommended_jobs"
   ]
  },
  {
   "cell_type": "code",
   "execution_count": 238,
   "metadata": {},
   "outputs": [],
   "source": [
    "def format_recommendations(recommendations):\n",
    "    jobs10 = []\n",
    "    for job in recommendations:\n",
    "        job = job.lower().replace(\"_\", \" \").title()\n",
    "        job = job.replace('Hr Manager', 'HR Manager')\n",
    "        jobs10.append(job)\n",
    "    jobs10 = set(jobs10[0:30])\n",
    "    jobs10 = list(jobs10)\n",
    "    final_jobs10 = jobs10[0:10]\n",
    "    for i, item in enumerate(final_jobs10, 1):\n",
    "        print(i, '. ' + item + '\\n', sep='',end='')\n",
    "    return final_jobs10"
   ]
  },
  {
   "cell_type": "code",
   "execution_count": 239,
   "metadata": {},
   "outputs": [],
   "source": [
    "def top_100_categories(recommendations):\n",
    "    df = pd.read_csv('data/job_descriptions.csv', index_col=0)\n",
    "    user_titles = df[df.title.isin(recommendations)]\n",
    "    user_titles = user_titles[['title', 'category']]\n",
    "\n",
    "#     user_titles = user_titles.drop_duplicates(subset=\"title\", keep=\"last\")\n",
    "    category_list = list(user_titles.category)\n",
    "    return category_list"
   ]
  },
  {
   "cell_type": "code",
   "execution_count": 240,
   "metadata": {},
   "outputs": [],
   "source": [
    "def freq(list_of_categories):\n",
    "    frequency = []\n",
    "    unique_words = set(list_of_categories)\n",
    "    for words in unique_words :\n",
    "        frequency.append(list_of_categories.count(words))\n",
    "    return frequency"
   ]
  },
  {
   "cell_type": "code",
   "execution_count": 241,
   "metadata": {},
   "outputs": [],
   "source": [
    "def viz_data(list_of_categories, frequency_of_categories):\n",
    "    unique_words = set(list_of_categories)\n",
    "    unique_words = list(unique_words)\n",
    "    category_values = dict(zip(unique_words, frequency_of_categories))\n",
    "    category_dict = {key:val for key, val in category_values.items() if val >= 10}\n",
    "    names=category_dict.keys()\n",
    "    size=category_dict.values()\n",
    "    return names, size"
   ]
  },
  {
   "cell_type": "code",
   "execution_count": 242,
   "metadata": {},
   "outputs": [],
   "source": [
    "def make_viz(names_of_categories, size_of_categories):\n",
    "# Create a circle for the center of the plot\n",
    "    my_circle=plt.Circle( (0,0), 0.7, color='white')\n",
    "# Give color names\n",
    "    plt.title('Strength Summary')\n",
    "    plt.pie(size_of_categories, labels=names_of_categories)\n",
    "    p=plt.gcf()\n",
    "    p.gca().add_artist(my_circle)\n",
    "    plt.show()"
   ]
  },
  {
   "cell_type": "code",
   "execution_count": 243,
   "metadata": {},
   "outputs": [
    {
     "name": "stdout",
     "output_type": "stream",
     "text": [
      "0                     training_manager\n",
      "1                     training_manager\n",
      "2                     training_manager\n",
      "3                     training_manager\n",
      "4                     training_manager\n",
      "                    ...               \n",
      "261                youth services aide\n",
      "262             nutritionist associate\n",
      "263    Licensed Real Estate SalesAgent\n",
      "264                Sterile Supply Tech\n",
      "265                             resume\n",
      "Name: title, Length: 266, dtype: object\n",
      "265\n",
      "265    1.000000\n",
      "59     0.166790\n",
      "51     0.164310\n",
      "52     0.161649\n",
      "53     0.151894\n",
      "         ...   \n",
      "193    0.007303\n",
      "27     0.000000\n",
      "253    0.000000\n",
      "191    0.000000\n",
      "264    0.000000\n",
      "Length: 266, dtype: float64\n",
      "[59, 51, 52, 53, 57, 56, 55, 54, 50, 58, 75, 158, 34, 5, 213, 45, 217, 39, 2, 139, 235, 86, 182, 247, 46, 234, 79, 0, 250, 246, 260, 84, 120, 140, 222, 113, 31, 119, 127, 244, 23, 63, 62, 87, 80, 106, 92, 3, 18, 60, 85, 78, 10, 215, 101, 1, 201, 137, 233, 128, 263, 105, 74, 14, 168, 174, 154, 167, 82, 9, 7, 151, 21, 230, 108, 232, 98, 189, 8, 110, 216, 175, 24, 41, 11, 66, 36, 188, 228, 49, 72, 44, 16, 12, 118, 176, 130, 208, 214, 43]\n",
      "1. Proposal Manager\n",
      "2. Account Manager\n",
      "3. Motion Graphics Designer\n",
      "4. Training Manager\n",
      "5. Document Management Analyst\n",
      "6. Sales Rep\n",
      "7. Integrated Test Engineer\n",
      "8. Paralegal\n",
      "9. Controls, Modeling, And Simulation Engineer\n",
      "10. Specialist - General Assembly\n"
     ]
    },
    {
     "data": {
      "image/png": "[encoded data removed]",
      "text/plain": [
       "<Figure size 432x288 with 1 Axes>"
      ]
     },
     "metadata": {},
     "output_type": "display_data"
    },
    {
     "data": {
      "text/html": [
       "<div>\n",
       "<style scoped>\n",
       "    .dataframe tbody tr th:only-of-type {\n",
       "        vertical-align: middle;\n",
       "    }\n",
       "\n",
       "    .dataframe tbody tr th {\n",
       "        vertical-align: top;\n",
       "    }\n",
       "\n",
       "    .dataframe thead th {\n",
       "        text-align: right;\n",
       "    }\n",
       "</style>\n",
       "<table border=\"1\" class=\"dataframe\">\n",
       "  <thead>\n",
       "    <tr style=\"text-align: right;\">\n",
       "      <th></th>\n",
       "      <th>title</th>\n",
       "      <th>bag_of_words</th>\n",
       "    </tr>\n",
       "  </thead>\n",
       "  <tbody>\n",
       "    <tr>\n",
       "      <th>0</th>\n",
       "      <td>training_manager</td>\n",
       "      <td>provide limited express interest additional tr...</td>\n",
       "    </tr>\n",
       "    <tr>\n",
       "      <th>1</th>\n",
       "      <td>training_manager</td>\n",
       "      <td>workshops including schedules integrity respon...</td>\n",
       "    </tr>\n",
       "    <tr>\n",
       "      <th>2</th>\n",
       "      <td>training_manager</td>\n",
       "      <td>oversee translate diverse audience advanced kn...</td>\n",
       "    </tr>\n",
       "    <tr>\n",
       "      <th>3</th>\n",
       "      <td>training_manager</td>\n",
       "      <td>public speaking • enjoy getting previous exper...</td>\n",
       "    </tr>\n",
       "    <tr>\n",
       "      <th>4</th>\n",
       "      <td>training_manager</td>\n",
       "      <td>luxury business pr teams powerpoint paced envi...</td>\n",
       "    </tr>\n",
       "    <tr>\n",
       "      <th>...</th>\n",
       "      <td>...</td>\n",
       "      <td>...</td>\n",
       "    </tr>\n",
       "    <tr>\n",
       "      <th>261</th>\n",
       "      <td>youth services aide</td>\n",
       "      <td>time position placed may apply directly locate...</td>\n",
       "    </tr>\n",
       "    <tr>\n",
       "      <th>262</th>\n",
       "      <td>nutritionist associate</td>\n",
       "      <td>time position local health agency professional...</td>\n",
       "    </tr>\n",
       "    <tr>\n",
       "      <th>263</th>\n",
       "      <td>Licensed Real Estate SalesAgent</td>\n",
       "      <td>integrity career online commission region pers...</td>\n",
       "    </tr>\n",
       "    <tr>\n",
       "      <th>264</th>\n",
       "      <td>Sterile Supply Tech</td>\n",
       "      <td>ged required sterilize instrument sets surgery...</td>\n",
       "    </tr>\n",
       "    <tr>\n",
       "      <th>265</th>\n",
       "      <td>resume</td>\n",
       "      <td>animation ny804 animated motion comics initial...</td>\n",
       "    </tr>\n",
       "  </tbody>\n",
       "</table>\n",
       "<p>266 rows × 2 columns</p>\n",
       "</div>"
      ],
      "text/plain": [
       "                               title  \\\n",
       "0                   training_manager   \n",
       "1                   training_manager   \n",
       "2                   training_manager   \n",
       "3                   training_manager   \n",
       "4                   training_manager   \n",
       "..                               ...   \n",
       "261              youth services aide   \n",
       "262           nutritionist associate   \n",
       "263  Licensed Real Estate SalesAgent   \n",
       "264              Sterile Supply Tech   \n",
       "265                           resume   \n",
       "\n",
       "                                          bag_of_words  \n",
       "0    provide limited express interest additional tr...  \n",
       "1    workshops including schedules integrity respon...  \n",
       "2    oversee translate diverse audience advanced kn...  \n",
       "3    public speaking • enjoy getting previous exper...  \n",
       "4    luxury business pr teams powerpoint paced envi...  \n",
       "..                                                 ...  \n",
       "261  time position placed may apply directly locate...  \n",
       "262  time position local health agency professional...  \n",
       "263  integrity career online commission region pers...  \n",
       "264  ged required sterilize instrument sets surgery...  \n",
       "265  animation ny804 animated motion comics initial...  \n",
       "\n",
       "[266 rows x 2 columns]"
      ]
     },
     "execution_count": 243,
     "metadata": {},
     "output_type": "execute_result"
    }
   ],
   "source": [
    "\n",
    "resume_text = document_to_text(document_path)\n",
    "basic_documentdf = compile_document_text(resume_text)\n",
    "\n",
    "verbose_documentdf = text_to_bagofwords(basic_documentdf)\n",
    "recommend_df = join_and_condense(verbose_documentdf)\n",
    "\n",
    "cosine_sim = vectorize_text(recommend_df)\n",
    "recommended_jobs = recommend_100(recommend_df, cosine_sim)\n",
    "\n",
    "final_jobs10 = format_recommendations(recommended_jobs)\n",
    "category_list = top_100_categories(recommended_jobs)\n",
    "frequency = freq(category_list)\n",
    "names, size = viz_data(category_list, frequency)\n",
    "strength_summary = make_viz(names, size)\n",
    "recommend_df"
   ]
  },
  {
   "cell_type": "code",
   "execution_count": 244,
   "metadata": {},
   "outputs": [],
   "source": [
    "def analyze(document_path):\n",
    "    resume_text = document_to_text(document_path)\n",
    "    basic_documentdf = compile_document_text(resume_text)\n",
    "    verbose_documentdf = text_to_bagofwords(basic_documentdf)\n",
    "    recommend_df = join_and_condense(verbose_documentdf)\n",
    "    cosine_sim = vectorize_text(recommend_df)\n",
    "    recommended_jobs = recommend_100(recommend_df, cosine_sim)\n",
    "\n",
    "    final_jobs10 = format_recommendations(recommended_jobs)\n",
    "    category_list = top_100_categories(recommended_jobs)\n",
    "    frequency = freq(category_list)\n",
    "    names, size = viz_data(category_list, frequency)\n",
    "    strength_summary = make_viz(names, size)"
   ]
  },
  {
   "cell_type": "code",
   "execution_count": 245,
   "metadata": {},
   "outputs": [],
   "source": [
    "def final_rec(document_path):\n",
    "    text = document_to_text(document_path)\n",
    "    basic_documentdf = compile_document_text(text)\n",
    "    verbose_documentdf = text_to_bagofwords(basic_documentdf)\n",
    "    recommend_df = join_and_condense(verbose_documentdf)\n",
    "    cosine_sim = vectorize_text(recommend_df)\n",
    "    recommended_jobs = recommend_100(document_path, 'resume', cosine_sim)\n",
    "    recommendations = format_recommendations(recommended_jobs)\n",
    "    return recommendations"
   ]
  },
  {
   "cell_type": "code",
   "execution_count": 246,
   "metadata": {},
   "outputs": [
    {
     "name": "stdout",
     "output_type": "stream",
     "text": [
      "0                     training_manager\n",
      "1                     training_manager\n",
      "2                     training_manager\n",
      "3                     training_manager\n",
      "4                     training_manager\n",
      "                    ...               \n",
      "261                youth services aide\n",
      "262             nutritionist associate\n",
      "263    Licensed Real Estate SalesAgent\n",
      "264                Sterile Supply Tech\n",
      "265                             resume\n",
      "Name: title, Length: 266, dtype: object\n",
      "265\n",
      "265    1.000000\n",
      "74     0.158018\n",
      "79     0.120629\n",
      "13     0.118687\n",
      "188    0.118017\n",
      "         ...   \n",
      "159    0.000000\n",
      "145    0.000000\n",
      "143    0.000000\n",
      "107    0.000000\n",
      "173    0.000000\n",
      "Length: 266, dtype: float64\n",
      "[74, 79, 13, 188, 182, 119, 158, 72, 185, 9, 123, 58, 130, 222, 40, 90, 42, 11, 70, 128, 87, 56, 3, 30, 233, 250, 80, 66, 76, 39, 78, 215, 117, 16, 92, 189, 247, 31, 111, 5, 2, 82, 113, 18, 7, 178, 140, 0, 216, 6, 127, 94, 81, 8, 167, 239, 49, 175, 34, 75, 19, 235, 132, 161, 213, 71, 73, 17, 86, 57, 10, 1, 93, 217, 32, 14, 218, 234, 51, 201, 48, 84, 110, 176, 102, 154, 59, 109, 224, 214, 55, 194, 65, 114, 200, 101, 38, 180, 61, 105]\n",
      "1. Proposal Manager\n",
      "2. Director Of Nursing\n",
      "3. Fraud Specialist\n",
      "4. Account Manager\n",
      "5. Training Manager\n",
      "6. Controls, Modeling, And Simulation Engineer\n",
      "7. HR Manager\n",
      "8. Budget Analyst\n",
      "9. Accounts Payable Specialist\n",
      "10. Accounting Clerk\n"
     ]
    },
    {
     "data": {
      "image/png": "[encoded data removed]",
      "text/plain": [
       "<Figure size 432x288 with 1 Axes>"
      ]
     },
     "metadata": {},
     "output_type": "display_data"
    }
   ],
   "source": [
    "document_path = (r\"C:\\Users\\sambe\\Desktop\\Resume_May2020.pdf\")\n",
    "analyze(document_path)"
   ]
  },
  {
   "cell_type": "code",
   "execution_count": 247,
   "metadata": {},
   "outputs": [
    {
     "name": "stdout",
     "output_type": "stream",
     "text": [
      "0                     training_manager\n",
      "1                     training_manager\n",
      "2                     training_manager\n",
      "3                     training_manager\n",
      "4                     training_manager\n",
      "                    ...               \n",
      "261                youth services aide\n",
      "262             nutritionist associate\n",
      "263    Licensed Real Estate SalesAgent\n",
      "264                Sterile Supply Tech\n",
      "265                             resume\n",
      "Name: title, Length: 266, dtype: object\n",
      "265\n",
      "265    1.000000\n",
      "87     0.187561\n",
      "94     0.183434\n",
      "80     0.174721\n",
      "93     0.170176\n",
      "         ...   \n",
      "212    0.008254\n",
      "196    0.007775\n",
      "109    0.007721\n",
      "206    0.000000\n",
      "169    0.000000\n",
      "Length: 266, dtype: float64\n",
      "[87, 94, 80, 93, 60, 91, 96, 6, 92, 15, 185, 97, 63, 62, 82, 200, 61, 236, 86, 85, 140, 1, 69, 84, 158, 117, 12, 18, 83, 189, 247, 90, 235, 5, 36, 64, 199, 10, 135, 240, 23, 99, 68, 111, 114, 30, 66, 250, 34, 238, 81, 119, 95, 11, 188, 155, 229, 263, 13, 49, 0, 19, 67, 113, 38, 110, 39, 89, 17, 182, 14, 73, 127, 35, 130, 132, 100, 79, 222, 78, 4, 16, 105, 180, 45, 72, 123, 71, 234, 216, 48, 124, 33, 40, 7, 204, 214, 260, 76, 232]\n",
      "1. Proposal Manager\n",
      "2. Accounts Payable Specialist\n",
      "3. Training Manager\n",
      "4. Accounting Clerk\n",
      "5. Program Analyst\n",
      "6. Administrative Associate\n",
      "7. Export And Compliance Analyst\n",
      "8. Director, Alabama Math, Science And Technology Initiative\n",
      "9. Director Of Medical Specialty Clinics\n",
      "10. HR Manager\n"
     ]
    },
    {
     "data": {
      "image/png": "[encoded data removed]",
      "text/plain": [
       "<Figure size 432x288 with 1 Axes>"
      ]
     },
     "metadata": {},
     "output_type": "display_data"
    }
   ],
   "source": [
    "document_path = (r\"C:\\Users\\sambe\\Projects\\Cover_Letter_Analysis\\data\\documents\\ResumeAbdulAlbab.pdf\")\n",
    "analyze(document_path)"
   ]
  },
  {
   "cell_type": "code",
   "execution_count": 248,
   "metadata": {},
   "outputs": [
    {
     "name": "stdout",
     "output_type": "stream",
     "text": [
      "0                     training_manager\n",
      "1                     training_manager\n",
      "2                     training_manager\n",
      "3                     training_manager\n",
      "4                     training_manager\n",
      "                    ...               \n",
      "261                youth services aide\n",
      "262             nutritionist associate\n",
      "263    Licensed Real Estate SalesAgent\n",
      "264                Sterile Supply Tech\n",
      "265                             resume\n",
      "Name: title, Length: 266, dtype: object\n",
      "265\n",
      "265    1.000000\n",
      "60     0.161349\n",
      "93     0.157919\n",
      "92     0.155758\n",
      "12     0.152177\n",
      "         ...   \n",
      "264    0.010639\n",
      "212    0.000000\n",
      "209    0.000000\n",
      "259    0.000000\n",
      "147    0.000000\n",
      "Length: 266, dtype: float64\n",
      "[60, 93, 92, 12, 91, 96, 97, 84, 80, 238, 35, 15, 34, 1, 6, 95, 66, 82, 19, 99, 62, 63, 185, 64, 0, 13, 90, 94, 23, 68, 36, 18, 128, 250, 69, 61, 199, 65, 17, 85, 33, 158, 86, 41, 11, 140, 189, 120, 117, 229, 119, 228, 113, 5, 217, 72, 237, 89, 127, 234, 200, 105, 161, 39, 154, 10, 263, 31, 247, 124, 235, 40, 111, 7, 46, 83, 14, 87, 227, 48, 110, 135, 160, 114, 232, 130, 30, 201, 115, 225, 38, 143, 29, 4, 188, 155, 37, 55, 123, 260]\n",
      "1. Account Manager\n",
      "2. Accounts Payable Specialist\n",
      "3. Accounting Clerk\n",
      "4. Training Manager\n",
      "5. Program Analyst\n",
      "6. Cashier\n",
      "7. Fraud Investigator\n",
      "8. HR Manager\n",
      "9. Budget Analyst\n"
     ]
    },
    {
     "data": {
      "image/png": "[encoded data removed]",
      "text/plain": [
       "<Figure size 432x288 with 1 Axes>"
      ]
     },
     "metadata": {},
     "output_type": "display_data"
    }
   ],
   "source": [
    "document_path = (r\"C:\\Users\\sambe\\Projects\\Cover_Letter_Analysis\\data\\documents\\ResumeAhmadPirzada.pdf\")\n",
    "analyze(document_path)"
   ]
  },
  {
   "cell_type": "code",
   "execution_count": 249,
   "metadata": {},
   "outputs": [
    {
     "name": "stdout",
     "output_type": "stream",
     "text": [
      "0                     training_manager\n",
      "1                     training_manager\n",
      "2                     training_manager\n",
      "3                     training_manager\n",
      "4                     training_manager\n",
      "                    ...               \n",
      "261                youth services aide\n",
      "262             nutritionist associate\n",
      "263    Licensed Real Estate SalesAgent\n",
      "264                Sterile Supply Tech\n",
      "265                             resume\n",
      "Name: title, Length: 266, dtype: object\n",
      "265\n",
      "265    1.000000\n",
      "80     0.168051\n",
      "92     0.154479\n",
      "93     0.151458\n",
      "60     0.150449\n",
      "         ...   \n",
      "264    0.011054\n",
      "145    0.009278\n",
      "209    0.007754\n",
      "212    0.007754\n",
      "196    0.007304\n",
      "Length: 266, dtype: float64\n",
      "[80, 92, 93, 60, 66, 35, 94, 97, 91, 99, 12, 15, 95, 63, 62, 65, 90, 96, 111, 0, 82, 240, 110, 119, 18, 6, 68, 64, 23, 113, 158, 117, 84, 61, 128, 33, 5, 140, 155, 13, 182, 235, 86, 11, 30, 73, 199, 185, 87, 34, 7, 236, 49, 232, 69, 189, 229, 176, 263, 83, 127, 28, 42, 78, 214, 1, 105, 39, 100, 14, 250, 10, 114, 8, 247, 168, 85, 217, 37, 16, 41, 234, 237, 115, 238, 154, 36, 54, 50, 17, 38, 167, 89, 98, 19, 70, 74, 9, 160, 46]\n",
      "1. Account Manager\n",
      "2. Program Coordinator\n",
      "3. Accounts Payable Specialist\n",
      "4. Protective Services Manager\n",
      "5. Accounting Clerk\n",
      "6. Training Manager\n",
      "7. Records Manager\n",
      "8. Cashier\n",
      "9. HR Manager\n",
      "10. Legal Secretary\n"
     ]
    },
    {
     "data": {
      "image/png": "[encoded data removed]",
      "text/plain": [
       "<Figure size 432x288 with 1 Axes>"
      ]
     },
     "metadata": {},
     "output_type": "display_data"
    }
   ],
   "source": [
    "document_path = (r\"C:\\Users\\sambe\\Projects\\Cover_Letter_Analysis\\data\\documents\\ResumeAteliaDeaza.pdf\")\n",
    "analyze(document_path)"
   ]
  },
  {
   "cell_type": "code",
   "execution_count": 250,
   "metadata": {},
   "outputs": [
    {
     "name": "stdout",
     "output_type": "stream",
     "text": [
      "0                     training_manager\n",
      "1                     training_manager\n",
      "2                     training_manager\n",
      "3                     training_manager\n",
      "4                     training_manager\n",
      "                    ...               \n",
      "261                youth services aide\n",
      "262             nutritionist associate\n",
      "263    Licensed Real Estate SalesAgent\n",
      "264                Sterile Supply Tech\n",
      "265                             resume\n",
      "Name: title, Length: 266, dtype: object\n",
      "265\n",
      "265    1.000000\n",
      "73     0.123045\n",
      "80     0.107763\n",
      "65     0.104934\n",
      "106    0.101015\n",
      "         ...   \n",
      "221    0.000000\n",
      "169    0.000000\n",
      "171    0.000000\n",
      "173    0.000000\n",
      "179    0.000000\n",
      "Length: 266, dtype: float64\n",
      "[73, 80, 65, 106, 104, 217, 75, 250, 260, 86, 109, 119, 95, 254, 64, 59, 168, 99, 58, 12, 79, 214, 19, 70, 115, 97, 63, 62, 2, 74, 225, 188, 61, 78, 101, 9, 148, 108, 140, 45, 123, 226, 5, 34, 82, 81, 66, 36, 54, 50, 84, 13, 236, 238, 232, 118, 176, 216, 33, 77, 113, 55, 76, 67, 89, 175, 135, 220, 60, 194, 158, 215, 18, 57, 127, 49, 124, 182, 51, 139, 94, 7, 174, 52, 0, 248, 69, 208, 213, 234, 128, 116, 110, 91, 154, 237, 224, 31, 47, 117]\n",
      "1. Dietitian (Pool)\n",
      "2. Program Coordinator\n",
      "3. Accounts Payable Specialist\n",
      "4. Sports Representative\n",
      "5. Coord Nursing Infusion Clinic\n",
      "6. Accounting Clerk\n",
      "7. Motion Graphics Designer\n",
      "8. Electric T&D System Manager\n",
      "9. Security Officer\n",
      "10. Training Manager\n"
     ]
    },
    {
     "data": {
      "image/png": "[encoded data removed]",
      "text/plain": [
       "<Figure size 432x288 with 1 Axes>"
      ]
     },
     "metadata": {},
     "output_type": "display_data"
    }
   ],
   "source": [
    "document_path = (r\"C:\\Users\\sambe\\Downloads\\Resume.pdf\")\n",
    "analyze(document_path)"
   ]
  },
  {
   "cell_type": "code",
   "execution_count": 251,
   "metadata": {},
   "outputs": [
    {
     "name": "stdout",
     "output_type": "stream",
     "text": [
      "0                     training_manager\n",
      "1                     training_manager\n",
      "2                     training_manager\n",
      "3                     training_manager\n",
      "4                     training_manager\n",
      "                    ...               \n",
      "261                youth services aide\n",
      "262             nutritionist associate\n",
      "263    Licensed Real Estate SalesAgent\n",
      "264                Sterile Supply Tech\n",
      "265                             resume\n",
      "Name: title, Length: 266, dtype: object\n",
      "265\n",
      "265    1.000000\n",
      "59     0.166790\n",
      "51     0.164310\n",
      "52     0.161649\n",
      "53     0.151894\n",
      "         ...   \n",
      "193    0.007303\n",
      "27     0.000000\n",
      "253    0.000000\n",
      "191    0.000000\n",
      "264    0.000000\n",
      "Length: 266, dtype: float64\n",
      "[59, 51, 52, 53, 57, 56, 55, 54, 50, 58, 75, 158, 34, 5, 213, 45, 217, 39, 2, 139, 235, 86, 182, 247, 46, 234, 79, 0, 250, 246, 260, 84, 120, 140, 222, 113, 31, 119, 127, 244, 23, 63, 62, 87, 80, 106, 92, 3, 18, 60, 85, 78, 10, 215, 101, 1, 201, 137, 233, 128, 263, 105, 74, 14, 168, 174, 154, 167, 82, 9, 7, 151, 21, 230, 108, 232, 98, 189, 8, 110, 216, 175, 24, 41, 11, 66, 36, 188, 228, 49, 72, 44, 16, 12, 118, 176, 130, 208, 214, 43]\n",
      "1. Proposal Manager\n",
      "2. Account Manager\n",
      "3. Motion Graphics Designer\n",
      "4. Training Manager\n",
      "5. Document Management Analyst\n",
      "6. Sales Rep\n",
      "7. Integrated Test Engineer\n",
      "8. Paralegal\n",
      "9. Controls, Modeling, And Simulation Engineer\n",
      "10. Specialist - General Assembly\n"
     ]
    },
    {
     "data": {
      "image/png": "[encoded data removed]",
      "text/plain": [
       "<Figure size 432x288 with 1 Axes>"
      ]
     },
     "metadata": {},
     "output_type": "display_data"
    }
   ],
   "source": [
    "document_path = (r\"C:\\Users\\sambe\\Desktop\\david-powell-resume-2018.pdf\")\n",
    "analyze(document_path)"
   ]
  },
  {
   "cell_type": "code",
   "execution_count": 252,
   "metadata": {},
   "outputs": [],
   "source": [
    "def top10(document_path):\n",
    "    document_path = (r\"C:\\Users\\sambe\\Projects\\Cover_Letter_Analysis\\data\\documents\\ResumeBrittanyMouzoon.pdf\")\n",
    "    text = document_to_text(document_path)\n",
    "#     print(\"Extracting text from document...\")\n",
    "    basic_documentdf = compile_document_text(text)\n",
    "#     print(\"Creating dataframe...\")\n",
    "    verbose_documentdf = text_to_bagofwords(basic_documentdf)\n",
    "#     print(\"Extracting key words from text...\")\n",
    "    recommend_df = join_and_condense(verbose_documentdf)\n",
    "#     print(\"Compiling data...\")\n",
    "    cosine_sim = vectorize_text(recommend_df)\n",
    "#     print(\"Calculating similarities...\")\n",
    "    recommended_jobs = recommend_100('resume', cosine_sim)\n",
    "#     print(\"Retrieving top recommendations...\")\n",
    "    recommendations = format_recommendations(recommended_jobs)\n",
    "    return recommendations"
   ]
  }
 ],
 "metadata": {
  "kernelspec": {
   "display_name": "Python 3",
   "language": "python",
   "name": "python3"
  },
  "language_info": {
   "codemirror_mode": {
    "name": "ipython",
    "version": 3
   },
   "file_extension": ".py",
   "mimetype": "text/x-python",
   "name": "python",
   "nbconvert_exporter": "python",
   "pygments_lexer": "ipython3",
   "version": "3.7.6"
  }
 },
 "nbformat": 4,
 "nbformat_minor": 4
}
