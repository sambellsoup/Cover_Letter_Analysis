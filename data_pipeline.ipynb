{
 "cells": [
  {
   "cell_type": "code",
   "execution_count": 67,
   "metadata": {},
   "outputs": [],
   "source": [
    "# library\n",
    "import matplotlib.pyplot as plt\n",
    "import pandas as pd\n",
    "from rake_nltk import Rake\n",
    "from tika import parser\n",
    "from sklearn.metrics.pairwise import cosine_similarity\n",
    "from sklearn.feature_extraction.text import CountVectorizer"
   ]
  },
  {
   "cell_type": "code",
   "execution_count": 68,
   "metadata": {},
   "outputs": [],
   "source": [
    "def document_to_text(document_path):\n",
    "    # document = request.FILES['document']\n",
    "    parsed = parser.from_file(document_path)\n",
    "    text = parsed['content']\n",
    "    if parsed['content'] == None:\n",
    "        print(\"The submitted document cannot be read.\")\n",
    "    try:\n",
    "        text = text.replace('\\n', '')\n",
    "    except:\n",
    "        pass\n",
    "    return text"
   ]
  },
  {
   "cell_type": "code",
   "execution_count": 3,
   "metadata": {},
   "outputs": [],
   "source": [
    "def compile_document_text(text):\n",
    "    job_descriptions = pd.read_csv('data/job_descriptions.csv', index_col=0)\n",
    "    data = [['resume', text]]\n",
    "    basic_documentdf = pd.DataFrame(data, columns = ['title', 'description'])\n",
    "    return basic_documentdf"
   ]
  },
  {
   "cell_type": "code",
   "execution_count": 4,
   "metadata": {},
   "outputs": [],
   "source": [
    "def text_to_bagofwords(df):\n",
    "    df['rake_key_words'] = ''\n",
    "    r = Rake()\n",
    "    for index, row in df.iterrows():\n",
    "        r.extract_keywords_from_text(row['description'])\n",
    "        key_words_dict_scores = r.get_word_degrees()\n",
    "        row['rake_key_words'] = list(key_words_dict_scores.keys())\n",
    "# Transform key words into bag of words\n",
    "    df['bag_of_words'] = ''\n",
    "    for index, row in df.iterrows():\n",
    "        words = ''\n",
    "        words += ' '.join(row['rake_key_words']) + ' '\n",
    "        row['bag_of_words'] = words\n",
    "    verbose_documentdf = df\n",
    "    return verbose_documentdf"
   ]
  },
  {
   "cell_type": "code",
   "execution_count": 5,
   "metadata": {},
   "outputs": [],
   "source": [
    "def join_and_condense(df):\n",
    "    job_descriptions = pd.read_csv('data/job_descriptions.csv', index_col=0)\n",
    "    job_descriptions = job_descriptions.append(df)\n",
    "    recommend_df = job_descriptions[['title', 'bag_of_words']]\n",
    "    return recommend_df"
   ]
  },
  {
   "cell_type": "code",
   "execution_count": 6,
   "metadata": {},
   "outputs": [],
   "source": [
    "def vectorize_text(df):\n",
    "    count = CountVectorizer()\n",
    "    count_matrix = count.fit_transform(df['bag_of_words'])\n",
    "    cosine_sim = cosine_similarity(count_matrix, count_matrix)\n",
    "    return cosine_sim"
   ]
  },
  {
   "cell_type": "code",
   "execution_count": 7,
   "metadata": {},
   "outputs": [],
   "source": [
    "def recommend_100(df, matrix):\n",
    "    recommended_jobs = []\n",
    "    indices = pd.Series(df['title'])\n",
    "    idx = indices[indices == 'resume'].index[0]\n",
    "    score_series = pd.Series(matrix[idx]).sort_values(ascending = False)\n",
    "    top_100_indices = list(score_series.iloc[1:101].index)\n",
    "\n",
    "    for i in top_100_indices:\n",
    "        recommended_jobs.append(list(df['title'])[i])\n",
    "\n",
    "    return recommended_jobs"
   ]
  },
  {
   "cell_type": "code",
   "execution_count": 8,
   "metadata": {},
   "outputs": [],
   "source": [
    "def format_recommendations(recommendations):\n",
    "    jobs10 = []\n",
    "    for job in recommendations:\n",
    "        job = job.lower().replace(\"_\", \" \").title()\n",
    "        job = job.replace('Hr Manager', 'HR Manager')\n",
    "        jobs10.append(job)\n",
    "    jobs10 = set(jobs10[0:20])\n",
    "    jobs10 = list(jobs10)\n",
    "    final_jobs10 = jobs10[0:10]\n",
    "    for i, item in enumerate(final_jobs10, 1):\n",
    "        print(i, '. ' + item + '\\n', sep='',end='')\n",
    "    return final_jobs10"
   ]
  },
  {
   "cell_type": "code",
   "execution_count": 37,
   "metadata": {},
   "outputs": [],
   "source": [
    "def top_100_categories(recommendations):\n",
    "    df = pd.read_csv('data/job_descriptions.csv', index_col=0)\n",
    "    user_titles = df[df.title.isin(recommendations)]\n",
    "    user_titles = user_titles[['title', 'category']]\n",
    "#     user_titles = user_titles.drop_duplicates(subset=\"title\", keep=\"last\")\n",
    "    category_list = list(user_titles.category)\n",
    "    return category_list"
   ]
  },
  {
   "cell_type": "code",
   "execution_count": 39,
   "metadata": {},
   "outputs": [],
   "source": [
    "def freq(list_of_categories):\n",
    "    frequency = []\n",
    "    unique_words = set(list_of_categories)\n",
    "    for words in unique_words :\n",
    "        frequency.append(list_of_categories.count(words))\n",
    "    return frequency"
   ]
  },
  {
   "cell_type": "code",
   "execution_count": 54,
   "metadata": {},
   "outputs": [],
   "source": [
    "def viz_data(list_of_categories, frequency_of_categories):\n",
    "    unique_words = set(list_of_categories)\n",
    "    unique_words = list(unique_words)\n",
    "    category_values = dict(zip(unique_words, frequency_of_categories))\n",
    "    category_dict = {key:val for key, val in category_values.items() if val >= 10}\n",
    "    names=category_dict.keys()\n",
    "    size=category_dict.values()\n",
    "    return names, size"
   ]
  },
  {
   "cell_type": "code",
   "execution_count": 55,
   "metadata": {},
   "outputs": [],
   "source": [
    "def make_viz(names_of_categories, size_of_categories):\n",
    "# Create a circle for the center of the plot\n",
    "    my_circle=plt.Circle( (0,0), 0.7, color='white')\n",
    "# Give color names\n",
    "    plt.title('Strength Summary')\n",
    "    plt.pie(size_of_categories, labels=names_of_categories)\n",
    "    p=plt.gcf()\n",
    "    p.gca().add_artist(my_circle)\n",
    "    plt.show()"
   ]
  },
  {
   "cell_type": "code",
   "execution_count": 56,
   "metadata": {},
   "outputs": [],
   "source": [
    "def analyze(document_path):\n",
    "    resume_text = document_to_text(document_path)\n",
    "    basic_documentdf = compile_document_text(resume_text)\n",
    "    verbose_documentdf = text_to_bagofwords(basic_documentdf)\n",
    "    recommend_df = join_and_condense(verbose_documentdf)\n",
    "    cosine_sim = vectorize_text(recommend_df)\n",
    "    recommended_jobs = recommend_100(recommend_df, cosine_sim)\n",
    "    final_jobs10 = format_recommendations(recommended_jobs)\n",
    "    category_list = top_100_categories(recommended_jobs)\n",
    "    frequency = freq(category_list)\n",
    "    names, size = viz_data(category_list, frequency)\n",
    "    strength_summary = make_viz(names, size)"
   ]
  },
  {
   "cell_type": "code",
   "execution_count": 57,
   "metadata": {},
   "outputs": [],
   "source": [
    "def final_rec(document_path):\n",
    "    text = document_to_text(document_path)\n",
    "    basic_documentdf = compile_document_text(text)\n",
    "    verbose_documentdf = text_to_bagofwords(basic_documentdf)\n",
    "    recommend_df = join_and_condense(verbose_documentdf)\n",
    "    cosine_sim = vectorize_text(recommend_df)\n",
    "    recommended_jobs = recommend_100(document_path, 'resume', cosine_sim)\n",
    "    recommendations = format_recommendations(recommended_jobs)\n",
    "    return recommendations"
   ]
  },
  {
   "cell_type": "code",
   "execution_count": 69,
   "metadata": {},
   "outputs": [],
   "source": [
    "basic_documentdf = \"fuck\""
   ]
  },
  {
   "cell_type": "code",
   "execution_count": 74,
   "metadata": {},
   "outputs": [
    {
     "name": "stdout",
     "output_type": "stream",
     "text": [
      "SAMUEL LOGAN BELL  ​https://medium.com/@sambellsoup​ | ​https://github.com/sambellsoup https://www.linkedin.com/in/sam--bell/ sambellsoup@gmail.com​ | 757-652-7433 | Brooklyn, NY 11216  Data Scientist and machine learning engineer with a penchant for visualizations and making data interactive. I have experience in data acquisition and data modeling, statistical analysis, and machine learning with a background in Psychology and Education. I bring a unique skill set to team building and project management that helps companies realize their potential with data.   TECHNICAL SKILLS  ​AWS (S3, EC2), Bokeh, Github, Heroku, Linux, NumPy, Python, Pandas, scikit-learn, SQL, Tableau  EMPLOYMENT HISTORY RookiePlay New York, NY Data Science and Engineering Consultant, ​May 2020-Present + Scripted ​ETL ​pipeline using ​NLP​ techniques for topic modeling and data analysis + Created dashboards using ​Python’s​ ​Dash​ and ​Tableau + Engineered job recommendation system  Boy Scouts of America New York, NY Exploring Executive, ​May 2014 - August 2017 + Increased membership for Exploring by ​16.5% ​through managing several marketing outlets + Established ​9​ sustainable after school programs hosted by local businesses  TECHNICAL PROJECTS Video Game Recommendation System - ​https://github.com/sambellsoup/VGR2 A system that recommends users new games based on their previous ratings + Scrape and populated a database of user reviews from Metacritic using ​Python’s BeautifulSoup​ package and standard library regular expressions + Program with ​Pandas​ to process and analyze data + Use ​Singular Value Decomposition(SVD)​ algorithm and clustering to predict user ratings and generate recommendation + Deployed as a web application written in Flask backed by a Postgres database  Global Voter Turnout - ​https://github.com/sambellsoup/Voter_Turnout Evaluating the most influential predictor of voter turnout by combining UN and IDEA datasets + Use ​Bokeh ​and ​Tableau​ to create interactive geographic visualizations of a large dataset + Find the best model for predicting voter turnout on a global scale and for individual countries + K fold cross validation and modeling with ​Gradient Boost​ and ​Random Forest  Tree Coverage - ​https://github.com/sambellsoup/Trees Predicting tree species growth in Colorado with Kaggle dataset. + Utilize ​XGBoost​,​ Decision Trees​, and ​Random Forest​ to create the best model for prediction + Evaluate accuracy and precision on a multiclass model using scikit-learn + Manipulate features with ​Principal Component Analysis​ and then ​Lasso​ for feature selection  EDUCATION DataCamp - ​AWS Boto in Python, Intro to Scala, Fall 2019 Flatiron School​,​ ​August 2019 New York, NY  George Mason University Fairfax, VA  B.S. in Psychology, May 2010 https://medium.com/@sambellsouphttps://github.com/sambellsouphttps://www.linkedin.com/in/sam--bell/mailto:sambellsoup@gmail.comhttps://github.com/sambellsoup/VGR2https://github.com/sambellsoup/Voter_Turnouthttps://github.com/sambellsoup/Trees\n",
      "[[1.         0.22157509 0.17786577 ... 0.19034722 0.06270894 0.08847479]\n",
      " [0.22157509 1.         0.24679284 ... 0.15757982 0.04144738 0.08316768]\n",
      " [0.17786577 0.24679284 1.         ... 0.16044067 0.03114751 0.09375018]\n",
      " ...\n",
      " [0.19034722 0.15757982 0.16044067 ... 1.         0.05934326 0.07591177]\n",
      " [0.06270894 0.04144738 0.03114751 ... 0.05934326 1.         0.0121366 ]\n",
      " [0.08847479 0.08316768 0.09375018 ... 0.07591177 0.0121366  1.        ]]\n",
      "1. Account Manager\n",
      "2. Manufacturing Supervisor\n",
      "3. Protective Services Manager\n",
      "4. Proposal Manager\n",
      "5. Program Coordinator\n",
      "6. Training Manager\n",
      "7. Executive Director\n",
      "8. Security Officer\n",
      "9. Medical Science Liaison\n",
      "10. Document Management Analyst\n"
     ]
    },
    {
     "data": {
      "image/png": "[encoded data removed]",
      "text/plain": [
       "<Figure size 432x288 with 1 Axes>"
      ]
     },
     "metadata": {},
     "output_type": "display_data"
    },
    {
     "data": {
      "text/html": [
       "<div>\n",
       "<style scoped>\n",
       "    .dataframe tbody tr th:only-of-type {\n",
       "        vertical-align: middle;\n",
       "    }\n",
       "\n",
       "    .dataframe tbody tr th {\n",
       "        vertical-align: top;\n",
       "    }\n",
       "\n",
       "    .dataframe thead th {\n",
       "        text-align: right;\n",
       "    }\n",
       "</style>\n",
       "<table border=\"1\" class=\"dataframe\">\n",
       "  <thead>\n",
       "    <tr style=\"text-align: right;\">\n",
       "      <th></th>\n",
       "      <th>title</th>\n",
       "      <th>description</th>\n",
       "      <th>rake_key_words</th>\n",
       "      <th>bag_of_words</th>\n",
       "    </tr>\n",
       "  </thead>\n",
       "  <tbody>\n",
       "    <tr>\n",
       "      <th>0</th>\n",
       "      <td>resume</td>\n",
       "      <td>SAMUEL LOGAN BELL  ​https://medium.com/@sambel...</td>\n",
       "      <td>[voter, turnout, ​, lasso, create, making, dat...</td>\n",
       "      <td>voter turnout ​ lasso create making data inter...</td>\n",
       "    </tr>\n",
       "  </tbody>\n",
       "</table>\n",
       "</div>"
      ],
      "text/plain": [
       "    title                                        description  \\\n",
       "0  resume  SAMUEL LOGAN BELL  ​https://medium.com/@sambel...   \n",
       "\n",
       "                                      rake_key_words  \\\n",
       "0  [voter, turnout, ​, lasso, create, making, dat...   \n",
       "\n",
       "                                        bag_of_words  \n",
       "0  voter turnout ​ lasso create making data inter...  "
      ]
     },
     "execution_count": 74,
     "metadata": {},
     "output_type": "execute_result"
    }
   ],
   "source": [
    "document_path = (r\"C:\\Users\\sambe\\Desktop\\Resume_May2020.pdf\")\n",
    "resume_text = document_to_text(document_path)\n",
    "print(resume_text)\n",
    "basic_documentdf = compile_document_text(resume_text)\n",
    "\n",
    "verbose_documentdf = text_to_bagofwords(basic_documentdf)\n",
    "\n",
    "recommend_df = join_and_condense(verbose_documentdf)\n",
    "\n",
    "cosine_sim = vectorize_text(recommend_df)\n",
    "print(cosine_sim)\n",
    "recommended_jobs = recommend_100(recommend_df, cosine_sim)\n",
    "\n",
    "final_jobs10 = format_recommendations(recommended_jobs)\n",
    "\n",
    "category_list = top_100_categories(recommended_jobs)\n",
    "\n",
    "frequency = freq(category_list)\n",
    "\n",
    "names, size = viz_data(category_list, frequency)\n",
    "\n",
    "strength_summary = make_viz(names, size)\n",
    "basic_documentdf"
   ]
  },
  {
   "cell_type": "code",
   "execution_count": 75,
   "metadata": {},
   "outputs": [
    {
     "name": "stdout",
     "output_type": "stream",
     "text": [
      "Indeed ResumeAbdul AlbabBronx, NY 10467abdulalbab2_n6u@indeedemail.com(347) 615-8170Work ExperienceAccountantCS Corporation - Bronx, NYJune 2017 to Present• Manage and oversee daily Accounts Payable and Accounts Receivable process • Update cash flow reports on a weekly basis to summarize all payments received and sent out • Perform monthly bank reconciliation. Report to management any variances that could not beresolved • Manage day to day administration of cash, oversee the timely and accurate processing of invoices,purchase orders, credit memos and payment transactions • Develop and verify all invoices to management for approval process • Create and analyze budget reports, prepare reports that compare budget versus cost, along with awrite up for management • Manage all payment models and monthly payment schedules to ensure timely payment to vendors • Responsible for close of quarterly financials and creating quarterly and annual financial statementsincluding Income Statement, Balance Sheet, Statement of Cash Flows and various other ad hoc reportsTax AssociateH&R Block - Bronx, NYSeptember 2016 to April 2017• Prepared and filed individual, corporate and partnership tax return for clients • Prepared various tax forms and schedules, including Form 1040, 1120, 1120s, 1065 and Schedule A,B, C, D, E, SE • Assessed completeness of all source documents and input into H&R Block proprietary tax software • Examined financial records along with supporting documents for processing • Calculated deduction, tax credits, taxable income and prepared partnership allocations for clients • Learned to follow strict quality control processes to prevent any potential errorsAudit InternAflac - New York, NYJanuary 2016 to June 2016• Worked under the supervision of audit senior and managers to learn the preparation process foraudits • Tested and identified control weaknesses and provided solutions for improvement • Worked with audit senior to assess business risks and develop audit plan based on the assessmentresults • Prepared detail findings reports and recommendations to strengthen internal controlsBudget InternLehman College - Bronx, NYJune 2015 to December 2015• Assisted with CIS Budget Director in the fiscal budgeting of campus organization events, purchases,and payroll • Utilized CUNY e-Procurement System, Microsoft Word, Excel to create, manage and trackrequirement and purchase orders for student events as well as department events • Worked primarily in Microsoft Excel and Google sheets to budget, manage, and track payroll hoursand expenses • Input Data into various files and systems, answer phones, perform other duties and ad hocassignmentsEducationBachelor of Science in AccountingLehman College, City University of New York - Bronx, NYSkills• Intermediate Level Proficiency in Microsoft Office Suite, Intermediate Level Proficiency in IntuitQuickBooks, Intermediate LevelProficiency in Sage (Peachtree) Accounting Software, Intermediate Level Proficiency in H&R Blockproprietary tax software,Intermediate Level Proficiency in ProSystem fx Tax Software, Intermediate Level Proficiency in SQL,PLSQL, ALM (ApplicationLifecycle Management), UFT (Unified Functional Testing), Intermediate Level Proficiency in RadiantSystems, Exposure to ThomsonReuters Tax and Accounting CS Professional Suite\n",
      "[[1.         0.22157509 0.17786577 ... 0.19034722 0.06270894 0.10578988]\n",
      " [0.22157509 1.         0.24679284 ... 0.15757982 0.04144738 0.13606375]\n",
      " [0.17786577 0.24679284 1.         ... 0.16044067 0.03114751 0.07384814]\n",
      " ...\n",
      " [0.19034722 0.15757982 0.16044067 ... 1.         0.05934326 0.10822916]\n",
      " [0.06270894 0.04144738 0.03114751 ... 0.05934326 1.         0.035299  ]\n",
      " [0.10578988 0.13606375 0.07384814 ... 0.10822916 0.035299   1.        ]]\n",
      "1. Account Manager\n",
      "2. Manufacturing Supervisor\n",
      "3. Protective Services Manager\n",
      "4. Proposal Manager\n",
      "5. Program Coordinator\n",
      "6. Training Manager\n",
      "7. Executive Director\n",
      "8. Security Officer\n",
      "9. Medical Science Liaison\n",
      "10. Document Management Analyst\n"
     ]
    },
    {
     "data": {
      "image/png": "[encoded data removed]",
      "text/plain": [
       "<Figure size 432x288 with 1 Axes>"
      ]
     },
     "metadata": {},
     "output_type": "display_data"
    },
    {
     "data": {
      "text/html": [
       "<div>\n",
       "<style scoped>\n",
       "    .dataframe tbody tr th:only-of-type {\n",
       "        vertical-align: middle;\n",
       "    }\n",
       "\n",
       "    .dataframe tbody tr th {\n",
       "        vertical-align: top;\n",
       "    }\n",
       "\n",
       "    .dataframe thead th {\n",
       "        text-align: right;\n",
       "    }\n",
       "</style>\n",
       "<table border=\"1\" class=\"dataframe\">\n",
       "  <thead>\n",
       "    <tr style=\"text-align: right;\">\n",
       "      <th></th>\n",
       "      <th>title</th>\n",
       "      <th>description</th>\n",
       "      <th>rake_key_words</th>\n",
       "      <th>bag_of_words</th>\n",
       "    </tr>\n",
       "  </thead>\n",
       "  <tbody>\n",
       "    <tr>\n",
       "      <th>0</th>\n",
       "      <td>resume</td>\n",
       "      <td>Indeed ResumeAbdul AlbabBronx, NY 10467abdulal...</td>\n",
       "      <td>[clients, •, learned, processing, calculated, ...</td>\n",
       "      <td>clients • learned processing calculated deduct...</td>\n",
       "    </tr>\n",
       "  </tbody>\n",
       "</table>\n",
       "</div>"
      ],
      "text/plain": [
       "    title                                        description  \\\n",
       "0  resume  Indeed ResumeAbdul AlbabBronx, NY 10467abdulal...   \n",
       "\n",
       "                                      rake_key_words  \\\n",
       "0  [clients, •, learned, processing, calculated, ...   \n",
       "\n",
       "                                        bag_of_words  \n",
       "0  clients • learned processing calculated deduct...  "
      ]
     },
     "execution_count": 75,
     "metadata": {},
     "output_type": "execute_result"
    }
   ],
   "source": [
    "document_path = (r\"C:\\Users\\sambe\\Projects\\Cover_Letter_Analysis\\data\\documents\\ResumeAbdulAlbab.pdf\")\n",
    "resume_text = document_to_text(document_path)\n",
    "print(resume_text)\n",
    "basic_documentdf = compile_document_text(resume_text)\n",
    "\n",
    "verbose_documentdf = text_to_bagofwords(basic_documentdf)\n",
    "\n",
    "recommend_df = join_and_condense(verbose_documentdf)\n",
    "\n",
    "cosine_sim = vectorize_text(recommend_df)\n",
    "print(cosine_sim)\n",
    "recommended_jobs = recommend_100(recommend_df, cosine_sim)\n",
    "\n",
    "final_jobs10 = format_recommendations(recommended_jobs)\n",
    "\n",
    "category_list = top_100_categories(recommended_jobs)\n",
    "\n",
    "frequency = freq(category_list)\n",
    "\n",
    "names, size = viz_data(category_list, frequency)\n",
    "\n",
    "strength_summary = make_viz(names, size)\n",
    "basic_documentdf"
   ]
  },
  {
   "cell_type": "code",
   "execution_count": 72,
   "metadata": {},
   "outputs": [
    {
     "name": "stdout",
     "output_type": "stream",
     "text": [
      "Indeed ResumeAhmad PirzadaFort Lauderdale, FLahmadpirzada2_k25@indeedemail.com954-701-2442Detail-oriented, efficient and organized professional with over 30 years of experience in accounting.  #readytoworkWork ExperienceConstruction AccountantFlorida Atlantic University - FAU - Boca Raton, FLJuly 2019 to June 2020Florida Atlantic University (FAU) is a student-centered public university  • Created New minor Projects at the request of Project Managers • Reviewed and Approval ofRequisition • Created budget for new projects • Approved invoices submitted for payment • Set up new VendorsControllerWorld Jet, Inc - Fort Lauderdale, FLJune 2012 to February 2019An aviation services company focused on fixed-base operator (FBO), and hangar rental services  • Managed all Accounts Receivable and Accounts Payable • Prepare daily bank deposits, as well as reviewed bank balances and credit card activities • Conducted monthly bank reconciliation and bi-weekly payroll • Produced financial reports when requested • Review and reconcile general ledger accounts, Journal Entries, monthly sales tax, payments andAccruals  • Audit and review insurance polices • Manage various day-to-day task assigned by CEO Account ManagerHyatt Place - Fort Lauderdale, FLMay 2005 to December 2011Hyatt Place is a sub-brand of Hyatt Hotels, designed around select-service lodging   • Prepared monthly Profit & Loss statements, Balance Sheets, Month-End Journal Entries and Accruals  • Prepared month-end Cash Flow statements for review with CEO • Assisted the General Manager with Financial summary, reports and monthly forecasting • Managed all Accounts Receivable, Accounts Payable and Aging Reports • Reviewed and reconciled General Ledger accounts and bank statements • Monitored hotel operations to ensure compliance with all internal and corporate policies • Monthly preparation of Sales Tax, Occupancy Tax and Telecommunication Tax returnsProperty AccountantRichfield Hospitality - Fort Lauderdale, FLOctober 1994 to May 2005Richfield Hospitality, Inc. is a leading hotel management company   • Prepared monthly Profit & Loss statements, Balance Sheets  • Executed bi-weekly and monthly Payroll  • Monthly preparation of Sales Tax, Occupancy Tax and Telecommunication Tax returns  • Managed guest questions concerning but not limited to, billing charges, Travel Agent commissionsand any hotel complaintsStaff AccountantRubaiyat Modern Luxury - JeddahOctober 1990 to May 1994A chain of retail boutiques that offer a range of exclusive luxury fashion brands in Saudi Arabia   • Involved in preparing monthly accounts and year-end closings  • Conducted monthly visits at retail locations to audit inventory and revenue  • Worked closely with leadership teams to scout locations for retail storesAccountantNational Automobile ind - JeddahJune 1985 to September 1990A partner of the production and distribution network of Mercedes-Benz Trucks in Saudi Arabia   • Assisted Financial Director with preparing monthly Profit & Loss statements and Balance SheetsAuditorA. F. Ferguson & Co. - KarachiNovember 1980 to May 1985A leading public accounting, business advisory and corporate services firm  • Performed interim and annual audit related to industries, trading, retailing and banking • All audit assignments were conducted with critical research and cross-examination of validity for anyevidence providedEducationBBA in AccountingKarachi University1966 to 1970Skills• Excel (10+ years)• Auditing (5 years)• Quickbooks (10+ years)• Accounting (10+ years)• Accounts Payable (10+ years)• Accounts Receivable (10+ years)• Account Reconciliation (10+ years)• Payroll (10+ years)• Great Plains (10+ years)• FBO (7 years)• Journal Entries• General Ledger Accounting• General Ledger ReconciliationLinkshttps://www.linkedin.com/in/ahmad-pirzada-930/Certifications and Licensesdriver's licenseAssessmentsAccounting Skills: Bookkeeping — ProficientJune 2019Calculating and determining the accuracy of financial data.Full results: https://share.indeedassessments.com/share_to_profile/c03a0b7ed1f25c23a498b12f1008f594eed53dc074545cb7Indeed Assessments provides skills tests that are not indicative of a license or certification, or continueddevelopment in any professional field.https://www.linkedin.com/in/ahmad-pirzada-930/https://share.indeedassessments.com/share_to_profile/c03a0b7ed1f25c23a498b12f1008f594eed53dc074545cb7https://share.indeedassessments.com/share_to_profile/c03a0b7ed1f25c23a498b12f1008f594eed53dc074545cb7\n",
      "1. Account Manager\n",
      "2. Manufacturing Supervisor\n",
      "3. Protective Services Manager\n",
      "4. Proposal Manager\n",
      "5. Program Coordinator\n",
      "6. Training Manager\n",
      "7. Executive Director\n",
      "8. Security Officer\n",
      "9. Medical Science Liaison\n",
      "10. Document Management Analyst\n"
     ]
    },
    {
     "data": {
      "image/png": "[encoded data removed]",
      "text/plain": [
       "<Figure size 432x288 with 1 Axes>"
      ]
     },
     "metadata": {},
     "output_type": "display_data"
    },
    {
     "data": {
      "text/html": [
       "<div>\n",
       "<style scoped>\n",
       "    .dataframe tbody tr th:only-of-type {\n",
       "        vertical-align: middle;\n",
       "    }\n",
       "\n",
       "    .dataframe tbody tr th {\n",
       "        vertical-align: top;\n",
       "    }\n",
       "\n",
       "    .dataframe thead th {\n",
       "        text-align: right;\n",
       "    }\n",
       "</style>\n",
       "<table border=\"1\" class=\"dataframe\">\n",
       "  <thead>\n",
       "    <tr style=\"text-align: right;\">\n",
       "      <th></th>\n",
       "      <th>title</th>\n",
       "      <th>description</th>\n",
       "      <th>rake_key_words</th>\n",
       "      <th>bag_of_words</th>\n",
       "    </tr>\n",
       "  </thead>\n",
       "  <tbody>\n",
       "    <tr>\n",
       "      <th>0</th>\n",
       "      <td>resume</td>\n",
       "      <td>Indeed ResumeAhmad PirzadaFort Lauderdale, FLa...</td>\n",
       "      <td>[audit, inventory, retailing, organized, profe...</td>\n",
       "      <td>audit inventory retailing organized profession...</td>\n",
       "    </tr>\n",
       "  </tbody>\n",
       "</table>\n",
       "</div>"
      ],
      "text/plain": [
       "    title                                        description  \\\n",
       "0  resume  Indeed ResumeAhmad PirzadaFort Lauderdale, FLa...   \n",
       "\n",
       "                                      rake_key_words  \\\n",
       "0  [audit, inventory, retailing, organized, profe...   \n",
       "\n",
       "                                        bag_of_words  \n",
       "0  audit inventory retailing organized profession...  "
      ]
     },
     "execution_count": 72,
     "metadata": {},
     "output_type": "execute_result"
    }
   ],
   "source": [
    "document_path = (r\"C:\\Users\\sambe\\Projects\\Cover_Letter_Analysis\\data\\documents\\ResumeAhmadPirzada.pdf\")\n",
    "resume_text = document_to_text(document_path)\n",
    "print(resume_text)\n",
    "basic_documentdf = compile_document_text(resume_text)\n",
    "\n",
    "verbose_documentdf = text_to_bagofwords(basic_documentdf)\n",
    "\n",
    "recommend_df = join_and_condense(verbose_documentdf)\n",
    "\n",
    "cosine_sim = vectorize_text(recommend_df)\n",
    "\n",
    "recommended_jobs = recommend_100(recommend_df, cosine_sim)\n",
    "\n",
    "final_jobs10 = format_recommendations(recommended_jobs)\n",
    "\n",
    "category_list = top_100_categories(recommended_jobs)\n",
    "\n",
    "frequency = freq(category_list)\n",
    "\n",
    "names, size = viz_data(category_list, frequency)\n",
    "\n",
    "strength_summary = make_viz(names, size)\n",
    "basic_documentdf"
   ]
  },
  {
   "cell_type": "code",
   "execution_count": 61,
   "metadata": {},
   "outputs": [
    {
     "name": "stdout",
     "output_type": "stream",
     "text": [
      "1. Account Manager\n",
      "2. Manufacturing Supervisor\n",
      "3. Protective Services Manager\n",
      "4. Proposal Manager\n",
      "5. Program Coordinator\n",
      "6. Training Manager\n",
      "7. Executive Director\n",
      "8. Security Officer\n",
      "9. Medical Science Liaison\n",
      "10. Document Management Analyst\n"
     ]
    },
    {
     "data": {
      "image/png": "[encoded data removed]",
      "text/plain": [
       "<Figure size 432x288 with 1 Axes>"
      ]
     },
     "metadata": {},
     "output_type": "display_data"
    }
   ],
   "source": [
    "document_path = (r\"C:\\Users\\sambe\\Projects\\Cover_Letter_Analysis\\data\\documents\\ResumeAteliaDeaza.pdf\")\n",
    "analyze(document_path)"
   ]
  },
  {
   "cell_type": "code",
   "execution_count": 62,
   "metadata": {},
   "outputs": [
    {
     "name": "stdout",
     "output_type": "stream",
     "text": [
      "1. Account Manager\n",
      "2. Manufacturing Supervisor\n",
      "3. Protective Services Manager\n",
      "4. Proposal Manager\n",
      "5. Program Coordinator\n",
      "6. Training Manager\n",
      "7. Executive Director\n",
      "8. Security Officer\n",
      "9. Medical Science Liaison\n",
      "10. Document Management Analyst\n"
     ]
    },
    {
     "data": {
      "image/png": "[encoded data removed]",
      "text/plain": [
       "<Figure size 432x288 with 1 Axes>"
      ]
     },
     "metadata": {},
     "output_type": "display_data"
    }
   ],
   "source": [
    "document_path = (r\"C:\\Users\\sambe\\Downloads\\Resume.pdf\")\n",
    "analyze(document_path)"
   ]
  },
  {
   "cell_type": "code",
   "execution_count": null,
   "metadata": {},
   "outputs": [],
   "source": []
  },
  {
   "cell_type": "code",
   "execution_count": 225,
   "metadata": {},
   "outputs": [],
   "source": [
    "def top10(document_path):\n",
    "    document_path = (r\"C:\\Users\\sambe\\Projects\\Cover_Letter_Analysis\\data\\documents\\ResumeBrittanyMouzoon.pdf\")\n",
    "    text = document_to_text(document_path)\n",
    "#     print(\"Extracting text from document...\")\n",
    "    basic_documentdf = compile_document_text(text)\n",
    "#     print(\"Creating dataframe...\")\n",
    "    verbose_documentdf = text_to_bagofwords(basic_documentdf)\n",
    "#     print(\"Extracting key words from text...\")\n",
    "    recommend_df = join_and_condense(verbose_documentdf)\n",
    "#     print(\"Compiling data...\")\n",
    "    cosine_sim = vectorize_text(recommend_df)\n",
    "#     print(\"Calculating similarities...\")\n",
    "    recommended_jobs = recommend_100('resume', cosine_sim)\n",
    "#     print(\"Retrieving top recommendations...\")\n",
    "    recommendations = format_recommendations(recommended_jobs)\n",
    "    return recommendations"
   ]
  },
  {
   "cell_type": "code",
   "execution_count": null,
   "metadata": {},
   "outputs": [],
   "source": []
  }
 ],
 "metadata": {
  "kernelspec": {
   "display_name": "Python 3",
   "language": "python",
   "name": "python3"
  },
  "language_info": {
   "codemirror_mode": {
    "name": "ipython",
    "version": 3
   },
   "file_extension": ".py",
   "mimetype": "text/x-python",
   "name": "python",
   "nbconvert_exporter": "python",
   "pygments_lexer": "ipython3",
   "version": "3.7.6"
  }
 },
 "nbformat": 4,
 "nbformat_minor": 4
}
