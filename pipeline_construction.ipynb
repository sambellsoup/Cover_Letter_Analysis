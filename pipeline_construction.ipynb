{
 "cells": [
  {
   "cell_type": "markdown",
   "metadata": {},
   "source": [
    "## Job recommendation pipeline will consist of the following steps:\n",
    "    * Document is uploaded\n",
    "    * Extract text data from document\n",
    "    * Clean data with preprocessing\n",
    "    * Vectorize text data\n",
    "    * PCA to plot vectorized data\n",
    "    * Calculate cosine similarities of document with job description database\n",
    "    * Return list of job description matches with job titles and job categories\n",
    "    \n",
    "To Do:\n",
    "    * Look into Deep Learning option\n",
    "        https://slacker.ro/2019/04/29/deep-learning-with-keras-recommender-systems/"
   ]
  },
  {
   "cell_type": "code",
   "execution_count": null,
   "metadata": {},
   "outputs": [],
   "source": []
  }
 ],
 "metadata": {
  "kernelspec": {
   "display_name": "Python 3",
   "language": "python",
   "name": "python3"
  },
  "language_info": {
   "codemirror_mode": {
    "name": "ipython",
    "version": 3
   },
   "file_extension": ".py",
   "mimetype": "text/x-python",
   "name": "python",
   "nbconvert_exporter": "python",
   "pygments_lexer": "ipython3",
   "version": "3.7.6"
  }
 },
 "nbformat": 4,
 "nbformat_minor": 4
}
